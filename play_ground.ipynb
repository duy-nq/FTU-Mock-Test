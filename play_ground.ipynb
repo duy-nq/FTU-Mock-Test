{
 "cells": [
  {
   "cell_type": "markdown",
   "metadata": {},
   "source": [
    "## Libraries"
   ]
  },
  {
   "cell_type": "code",
   "execution_count": 1,
   "metadata": {},
   "outputs": [],
   "source": [
    "import pandas as pd"
   ]
  },
  {
   "cell_type": "markdown",
   "metadata": {},
   "source": [
    "## Functions"
   ]
  },
  {
   "cell_type": "code",
   "execution_count": 2,
   "metadata": {},
   "outputs": [],
   "source": [
    "def read_csv(file_name: str) -> pd.DataFrame:\n",
    "    path = './data/' + file_name + '.csv'\n",
    "\n",
    "    data = pd.read_csv(path, sep=',')\n",
    "\n",
    "    return data"
   ]
  },
  {
   "cell_type": "markdown",
   "metadata": {},
   "source": [
    "### Question 1"
   ]
  },
  {
   "cell_type": "code",
   "execution_count": 3,
   "metadata": {},
   "outputs": [],
   "source": [
    "SEGMENT = ['Gold', 'Silver', 'Regular']\n",
    "\n",
    "def q1(data: pd.DataFrame) -> dict:\n",
    "    d = {\n",
    "        'regular': data[data['segment'] == SEGMENT[2]].size,\n",
    "        'silver': data[data['segment'] == SEGMENT[1]].size,\n",
    "        'gold': data[data['segment'] == SEGMENT[0]].size\n",
    "    }\n",
    "\n",
    "    return d\n"
   ]
  },
  {
   "cell_type": "markdown",
   "metadata": {},
   "source": [
    "### Question 2"
   ]
  },
  {
   "cell_type": "code",
   "execution_count": 4,
   "metadata": {},
   "outputs": [],
   "source": [
    "def q2(data: pd.DataFrame):\n",
    "    cities = {}\n",
    "\n",
    "    for city in data['province_city']:\n",
    "        if (cities.get(city) == None):\n",
    "            cities[city] = 1\n",
    "        else:\n",
    "            cities.update({city: cities.get(city)+1})\n",
    "\n",
    "    return cities"
   ]
  },
  {
   "cell_type": "markdown",
   "metadata": {},
   "source": [
    "### Question 3"
   ]
  },
  {
   "cell_type": "code",
   "execution_count": 57,
   "metadata": {},
   "outputs": [],
   "source": [
    "def q3(data: pd.DataFrame, seg_idx):\n",
    "    gold_data = data[data['segment'] == SEGMENT[seg_idx]]\n",
    "    gold_data = gold_data.drop('customer_id', axis=1)\n",
    "\n",
    "    seg_quant = {}\n",
    "\n",
    "    for city in gold_data['province_city']:\n",
    "        if (seg_quant.get(city) == None):\n",
    "            seg_quant[city] = 1\n",
    "        else:\n",
    "            seg_quant.update({city: seg_quant.get(city)+1})\n",
    "\n",
    "    return seg_quant"
   ]
  },
  {
   "cell_type": "markdown",
   "metadata": {},
   "source": [
    "### Question 4"
   ]
  },
  {
   "cell_type": "code",
   "execution_count": 44,
   "metadata": {},
   "outputs": [],
   "source": [
    "def q4(aum: pd.DataFrame, cust: pd.DataFrame):\n",
    "    def get_city(cust_id: int):\n",
    "        try:\n",
    "            row = cust.query('customer_id == ' + str(cust_id))            \n",
    "            return row.iloc[0]['province_city']\n",
    "        except:\n",
    "            return 'Not Found!'\n",
    "        \n",
    "    properties = {}\n",
    "\n",
    "    for _, row in aum.iterrows():\n",
    "        cust_city = get_city(row['customer_id'])\n",
    "\n",
    "        if (cust_city == 'Not Found!'):\n",
    "            continue\n",
    "        else:\n",
    "            if (properties.get(cust_city) == None):\n",
    "                properties[cust_city] = row['amount']\n",
    "            else:\n",
    "                properties.update({cust_city: properties.get(cust_city)+row['amount']})\n",
    "\n",
    "    return properties\n"
   ]
  },
  {
   "cell_type": "markdown",
   "metadata": {},
   "source": [
    "### Question 5"
   ]
  },
  {
   "cell_type": "code",
   "execution_count": 55,
   "metadata": {},
   "outputs": [],
   "source": [
    "def q5(aum: pd.DataFrame, cust: pd.DataFrame):\n",
    "    def get_segment(cust_id: int):\n",
    "        try:\n",
    "            row = cust.query('customer_id == ' + str(cust_id))            \n",
    "            return row.iloc[0]['segment']\n",
    "        except:\n",
    "            return 'Not Found!'\n",
    "        \n",
    "    gold = []\n",
    "    silver = []\n",
    "    regular = []\n",
    "\n",
    "    for _, row in aum.iterrows():\n",
    "        seg = get_segment(row['customer_id'])\n",
    "\n",
    "        if seg == 'Not Found!':\n",
    "            continue\n",
    "        else:\n",
    "            if seg == 'Gold':\n",
    "                gold.append(row['amount'])\n",
    "            elif seg == 'Silver':\n",
    "                silver.append(row['amount'])\n",
    "            else:\n",
    "                regular.append(row['amount'])\n",
    "\n",
    "    return pd.DataFrame(sorted(gold), columns=['amount']), pd.DataFrame(sorted(silver), columns=['amount']), pd.DataFrame(sorted(regular), columns=['amount'])"
   ]
  },
  {
   "cell_type": "markdown",
   "metadata": {},
   "source": [
    "### Question 6"
   ]
  },
  {
   "cell_type": "code",
   "execution_count": 68,
   "metadata": {},
   "outputs": [],
   "source": [
    "def q6(cust: pd.DataFrame, prod: pd.DataFrame):\n",
    "    def get_city(cust_id: int):\n",
    "        try:\n",
    "            row = cust.query('customer_id == ' + str(cust_id))            \n",
    "            return row.iloc[0]['province_city']\n",
    "        except:\n",
    "            return 'Not Found!'\n",
    "        \n",
    "    products = {}\n",
    "\n",
    "    for _, row in prod.iterrows():\n",
    "        cust_city = get_city(row['customer_id'])\n",
    "\n",
    "        if cust_city == 'Not Found!':\n",
    "            continue\n",
    "        else:\n",
    "            if products.get(cust_city) == None:\n",
    "                products[cust_city] = [row['prod_ca'], row['prod_td'], row['prod_credit_card']]\n",
    "            else:\n",
    "                new_record = [x+y for x, y in zip(products.get(cust_city), [row['prod_ca'], row['prod_td'], row['prod_credit_card']])]\n",
    "                products.update({cust_city: new_record})\n",
    "\n",
    "    list_prod = [(city, *values) for city, values in products.items()]\n",
    "\n",
    "    return pd.DataFrame(list_prod, columns=['province_city', 'prod_ca', 'prod_td', 'prod_credit_card'])\n",
    "    \n",
    "    "
   ]
  },
  {
   "cell_type": "markdown",
   "metadata": {},
   "source": [
    "### Question 7"
   ]
  },
  {
   "cell_type": "code",
   "execution_count": 79,
   "metadata": {},
   "outputs": [],
   "source": [
    "def q7(cust: pd.DataFrame, prod: pd.DataFrame):\n",
    "    def get_segment(cust_id: int):\n",
    "        try:\n",
    "            row = cust.query('customer_id == ' + str(cust_id))            \n",
    "            return row.iloc[0]['segment']\n",
    "        except:\n",
    "            return 'Not Found!'\n",
    "        \n",
    "    product_seg = {\n",
    "        SEGMENT[0]: [0,0,0],\n",
    "        SEGMENT[1]: [0,0,0],\n",
    "        SEGMENT[2]: [0,0,0]\n",
    "    }\n",
    "\n",
    "    for _, row in prod.iterrows():\n",
    "        seg = get_segment(row['customer_id'])\n",
    "\n",
    "        if seg == 'Not Found!':\n",
    "            continue\n",
    "        else:\n",
    "            new_record = [x+y for x, y in zip(product_seg.get(seg), [row['prod_ca'], row['prod_td'], row['prod_credit_card']])]\n",
    "            product_seg.update({seg: new_record})\n",
    "\n",
    "    list_ps = [(seg, *values) for seg, values in product_seg.items()]\n",
    "\n",
    "    return pd.DataFrame(list_ps, columns=['seg', 'prod_ca', 'prod_td', 'prod_cc'])"
   ]
  },
  {
   "cell_type": "markdown",
   "metadata": {},
   "source": [
    "### Question 8"
   ]
  },
  {
   "cell_type": "code",
   "execution_count": 81,
   "metadata": {},
   "outputs": [],
   "source": [
    "def q8(aum: pd.DataFrame, prod: pd.DataFrame):\n",
    "    def get_amount(cust_id: int):\n",
    "        try:\n",
    "            row = aum.query('customer_id == ' + str(cust_id))            \n",
    "            return row.iloc[0]['amount']\n",
    "        except:\n",
    "            return 'Not Found!'\n",
    "    \n",
    "    amount = {\n",
    "        'Credit Card': 0,\n",
    "        'Others': 0\n",
    "    }\n",
    "\n",
    "    for _,row in prod.iterrows():\n",
    "        if row['prod_credit_card'] == 1:\n",
    "            amount.update({'Credit Card': amount.get('Credit Card')+get_amount(row['customer_id'])}) \n",
    "        else:\n",
    "            amount.update({'Others': amount.get('Others')+get_amount(row['customer_id'])}) \n",
    "\n",
    "    return amount\n"
   ]
  },
  {
   "cell_type": "markdown",
   "metadata": {},
   "source": [
    "## RUN IT!"
   ]
  },
  {
   "cell_type": "code",
   "execution_count": 6,
   "metadata": {},
   "outputs": [],
   "source": [
    "cust_data = read_csv('cust')\n",
    "aum_data = read_csv('aum')\n",
    "prod_data = read_csv('prod_holding')"
   ]
  },
  {
   "cell_type": "markdown",
   "metadata": {},
   "source": [
    "### Answer 1"
   ]
  },
  {
   "cell_type": "code",
   "execution_count": 20,
   "metadata": {},
   "outputs": [
    {
     "name": "stdout",
     "output_type": "stream",
     "text": [
      "regular 24174\n"
     ]
    }
   ],
   "source": [
    "a1 = q1(cust_data)\n",
    "\n",
    "max_key = max(a1, key=a1.get)\n",
    "print(max_key, a1[max_key])"
   ]
  },
  {
   "cell_type": "markdown",
   "metadata": {},
   "source": [
    "### Answer 2"
   ]
  },
  {
   "cell_type": "code",
   "execution_count": 12,
   "metadata": {},
   "outputs": [
    {
     "data": {
      "text/plain": [
       "{'HA NOI': 3401,\n",
       " 'HO CHI MINH': 3296,\n",
       " 'No Info': 456,\n",
       " 'HAI PHONG': 262,\n",
       " 'THANH HOA': 179}"
      ]
     },
     "execution_count": 12,
     "metadata": {},
     "output_type": "execute_result"
    }
   ],
   "source": [
    "import itertools\n",
    "\n",
    "a2 = q2(cust_data)\n",
    "\n",
    "a2_sorted = dict(sorted(a2.items(), key = lambda item: item[1], reverse=True))\n",
    "\n",
    "dict(itertools.islice(a2_sorted.items(), 5))"
   ]
  },
  {
   "cell_type": "markdown",
   "metadata": {},
   "source": [
    "### Answer 3"
   ]
  },
  {
   "cell_type": "code",
   "execution_count": 59,
   "metadata": {},
   "outputs": [
    {
     "name": "stdout",
     "output_type": "stream",
     "text": [
      "HO CHI MINH\n"
     ]
    }
   ],
   "source": [
    "a3 = q3(cust_data, 0)\n",
    "\n",
    "a3_sorted = dict(sorted(a3.items(), key = lambda item: item[1], reverse=True))\n",
    "\n",
    "print(list(a3_sorted)[0])"
   ]
  },
  {
   "cell_type": "markdown",
   "metadata": {},
   "source": [
    "### Answer 4"
   ]
  },
  {
   "cell_type": "code",
   "execution_count": 45,
   "metadata": {},
   "outputs": [
    {
     "name": "stdout",
     "output_type": "stream",
     "text": [
      "('NAM DINH', 16075956998.568098)\n"
     ]
    }
   ],
   "source": [
    "a4 = q4(aum_data, cust_data)\n",
    "\n",
    "a4_sorted = sorted(a4.items(), key=lambda item: item[1], reverse=True)\n",
    "\n",
    "print(list(a4_sorted)[4])"
   ]
  },
  {
   "cell_type": "markdown",
   "metadata": {},
   "source": [
    "### Answer 5"
   ]
  },
  {
   "cell_type": "code",
   "execution_count": 56,
   "metadata": {},
   "outputs": [
    {
     "name": "stdout",
     "output_type": "stream",
     "text": [
      "Gold: Min - Max - 25 - 50 - 75:  0.00 63,661,883,585.00 82,458,769.14 625,000,000.00 1,441,736,462.00\n",
      "Silver: Min - Max - 25 - 50 - 75:  0.00 862,318,820.80 89,911.56 1,738,411.53 25,543,670.59\n",
      "Regular: Min - Max - 25 - 50 - 75:  0.00 1,500,000,002.00 23,863.38 58,642.24 228,456.15\n"
     ]
    }
   ],
   "source": [
    "def format_number(value, decimal_places=2):\n",
    "    return f\"{value:,.{decimal_places}f}\"\n",
    "\n",
    "gold, silver, regular = q5(aum_data, cust_data)\n",
    "\n",
    "print('Gold: Min - Max - 25 - 50 - 75: ', \n",
    "      format_number(gold['amount'].min()), \n",
    "      format_number(gold['amount'].max()), \n",
    "      format_number(gold['amount'].quantile(0.25)), \n",
    "      format_number(gold['amount'].quantile(0.50)), \n",
    "      format_number(gold['amount'].quantile(0.75)))\n",
    "\n",
    "print('Silver: Min - Max - 25 - 50 - 75: ', \n",
    "      format_number(silver['amount'].min()), \n",
    "      format_number(silver['amount'].max()), \n",
    "      format_number(silver['amount'].quantile(0.25)), \n",
    "      format_number(silver['amount'].quantile(0.50)), \n",
    "      format_number(silver['amount'].quantile(0.75)))\n",
    "\n",
    "print('Regular: Min - Max - 25 - 50 - 75: ', \n",
    "      format_number(regular['amount'].min()), \n",
    "      format_number(regular['amount'].max()), \n",
    "      format_number(regular['amount'].quantile(0.25)), \n",
    "      format_number(regular['amount'].quantile(0.50)), \n",
    "      format_number(regular['amount'].quantile(0.75)))\n"
   ]
  },
  {
   "cell_type": "markdown",
   "metadata": {},
   "source": [
    "### Answer 6"
   ]
  },
  {
   "cell_type": "code",
   "execution_count": 71,
   "metadata": {},
   "outputs": [
    {
     "name": "stdout",
     "output_type": "stream",
     "text": [
      "prod_ca:  HA NOI\n",
      "prod_td:  HO CHI MINH\n",
      "prod_cc:  HO CHI MINH\n"
     ]
    }
   ],
   "source": [
    "a6 = q6(cust_data, prod_data.fillna(0))\n",
    "\n",
    "city_ca_idx = a6['prod_ca'].idxmax()\n",
    "city_td_idx = a6['prod_td'].idxmax()\n",
    "city_cc_idx = a6['prod_credit_card'].idxmax()\n",
    "\n",
    "print('prod_ca: ', a6.iloc[city_ca_idx]['province_city'])\n",
    "print('prod_td: ', a6.iloc[city_td_idx]['province_city'])\n",
    "print('prod_cc: ', a6.iloc[city_cc_idx]['province_city'])"
   ]
  },
  {
   "cell_type": "markdown",
   "metadata": {},
   "source": [
    "### Answer 7"
   ]
  },
  {
   "cell_type": "code",
   "execution_count": 80,
   "metadata": {},
   "outputs": [
    {
     "name": "stdout",
     "output_type": "stream",
     "text": [
      "Percentage of Regular, Silver and Gold seg:\n",
      "prod_ca: 3.2462479155086164 15.141745414118954 81.61200667037242\n",
      "prod_td: 17.6814011676397 27.522935779816514 54.79566305254379\n",
      "prod_cc: 7.422068283028203 42.65215239980208 49.92577931716971\n"
     ]
    }
   ],
   "source": [
    "a7 = q7(cust_data, prod_data.fillna(0))\n",
    "\n",
    "print('Percentage of Regular, Silver and Gold seg:')\n",
    "print('prod_ca:', a7.iloc[0]['prod_ca']/a7['prod_ca'].sum()*100, a7.iloc[1]['prod_ca']/a7['prod_ca'].sum()*100, a7.iloc[2]['prod_ca']/a7['prod_ca'].sum()*100)\n",
    "print('prod_td:', a7.iloc[0]['prod_td']/a7['prod_td'].sum()*100, a7.iloc[1]['prod_td']/a7['prod_td'].sum()*100, a7.iloc[2]['prod_td']/a7['prod_td'].sum()*100)\n",
    "print('prod_cc:', a7.iloc[0]['prod_cc']/a7['prod_cc'].sum()*100, a7.iloc[1]['prod_cc']/a7['prod_cc'].sum()*100, a7.iloc[2]['prod_cc']/a7['prod_cc'].sum()*100)"
   ]
  },
  {
   "cell_type": "markdown",
   "metadata": {},
   "source": [
    "### Answer 8"
   ]
  },
  {
   "cell_type": "code",
   "execution_count": 83,
   "metadata": {},
   "outputs": [
    {
     "name": "stdout",
     "output_type": "stream",
     "text": [
      "Credit Card: 237,831,182,187.66\n",
      "Others: 405,137,904,645.93\n"
     ]
    }
   ],
   "source": [
    "a8 = q8(aum_data, prod_data.dropna())\n",
    "\n",
    "print('Credit Card:', format_number(a8.get('Credit Card')))\n",
    "print('Others:', format_number(a8.get('Others')))"
   ]
  },
  {
   "cell_type": "markdown",
   "metadata": {},
   "source": [
    "Tâm lý e ngại khi mở thẻ tín dụng, những vụ việc liên quan đến thẻ tín dụng gần đây càng làm củng cố thêm suy nghĩ ấy!\n",
    "\n",
    "Số đông người dùng vẫn chuộng lối sống tiết kiệm, có thể cân đối trước lượng tiền sử dụng trong tháng (?) mà không cần đến các loại thẻ trả sau?"
   ]
  }
 ],
 "metadata": {
  "kernelspec": {
   "display_name": "base",
   "language": "python",
   "name": "python3"
  },
  "language_info": {
   "codemirror_mode": {
    "name": "ipython",
    "version": 3
   },
   "file_extension": ".py",
   "mimetype": "text/x-python",
   "name": "python",
   "nbconvert_exporter": "python",
   "pygments_lexer": "ipython3",
   "version": "3.11.5"
  }
 },
 "nbformat": 4,
 "nbformat_minor": 2
}
