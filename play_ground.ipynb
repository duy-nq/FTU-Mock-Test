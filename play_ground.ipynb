{
 "cells": [
  {
   "cell_type": "markdown",
   "metadata": {},
   "source": [
    "## Libraries"
   ]
  },
  {
   "cell_type": "code",
   "execution_count": 1,
   "metadata": {},
   "outputs": [],
   "source": [
    "import pandas as pd"
   ]
  },
  {
   "cell_type": "markdown",
   "metadata": {},
   "source": [
    "## Functions"
   ]
  },
  {
   "cell_type": "code",
   "execution_count": 2,
   "metadata": {},
   "outputs": [],
   "source": [
    "def read_csv(file_name: str) -> pd.DataFrame:\n",
    "    path = './data/' + file_name + '.csv'\n",
    "\n",
    "    data = pd.read_csv(path, sep=',')\n",
    "\n",
    "    return data"
   ]
  },
  {
   "cell_type": "markdown",
   "metadata": {},
   "source": [
    "### Question 1"
   ]
  },
  {
   "cell_type": "code",
   "execution_count": 11,
   "metadata": {},
   "outputs": [],
   "source": [
    "SEGMENT = ['Gold', 'Silver', 'Regular']\n",
    "\n",
    "def q1(data: pd.DataFrame) -> dict:\n",
    "    d = {\n",
    "        'regular': data[data['segment'] == SEGMENT[2]].size,\n",
    "        'silver': data[data['segment'] == SEGMENT[1]].size,\n",
    "        'gold': data[data['segment'] == SEGMENT[0]].size\n",
    "    }\n",
    "\n",
    "    return d\n"
   ]
  },
  {
   "cell_type": "markdown",
   "metadata": {},
   "source": [
    "### Question 2"
   ]
  },
  {
   "cell_type": "code",
   "execution_count": 48,
   "metadata": {},
   "outputs": [],
   "source": [
    "def q2(data: pd.DataFrame):\n",
    "    cities = {}\n",
    "\n",
    "    for city in data['province_city']:\n",
    "        if (cities.get(city) == None):\n",
    "            cities[city] = 1\n",
    "        else:\n",
    "            cities.update({city: cities.get(city)+1})\n",
    "\n",
    "    return cities"
   ]
  },
  {
   "cell_type": "markdown",
   "metadata": {},
   "source": [
    "## RUN IT!"
   ]
  },
  {
   "cell_type": "code",
   "execution_count": 14,
   "metadata": {},
   "outputs": [],
   "source": [
    "cust_data = read_csv('cust')\n",
    "aum_data = read_csv('aum')\n",
    "prod_data = read_csv('prod_holding')"
   ]
  },
  {
   "cell_type": "markdown",
   "metadata": {},
   "source": [
    "### Answer 1"
   ]
  },
  {
   "cell_type": "code",
   "execution_count": 20,
   "metadata": {},
   "outputs": [
    {
     "name": "stdout",
     "output_type": "stream",
     "text": [
      "regular 24174\n"
     ]
    }
   ],
   "source": [
    "a1 = q1(cust_data)\n",
    "\n",
    "max_key = max(a1, key=a1.get)\n",
    "print(max_key, a1[max_key])"
   ]
  },
  {
   "cell_type": "markdown",
   "metadata": {},
   "source": [
    "### Answer 2"
   ]
  },
  {
   "cell_type": "code",
   "execution_count": 57,
   "metadata": {},
   "outputs": [
    {
     "data": {
      "text/plain": [
       "{'HA NOI': 3401,\n",
       " 'HO CHI MINH': 3296,\n",
       " 'No Info': 456,\n",
       " 'HAI PHONG': 262,\n",
       " 'THANH HOA': 179}"
      ]
     },
     "execution_count": 57,
     "metadata": {},
     "output_type": "execute_result"
    }
   ],
   "source": [
    "import itertools\n",
    "\n",
    "a2 = q2(cust_data)\n",
    "\n",
    "a2_sorted = dict(sorted(a2.items(), key = lambda item: item[1], reverse=True))\n",
    "\n",
    "dict(itertools.islice(a2_sorted.items(), 5))"
   ]
  }
 ],
 "metadata": {
  "kernelspec": {
   "display_name": "base",
   "language": "python",
   "name": "python3"
  },
  "language_info": {
   "codemirror_mode": {
    "name": "ipython",
    "version": 3
   },
   "file_extension": ".py",
   "mimetype": "text/x-python",
   "name": "python",
   "nbconvert_exporter": "python",
   "pygments_lexer": "ipython3",
   "version": "3.11.5"
  }
 },
 "nbformat": 4,
 "nbformat_minor": 2
}
