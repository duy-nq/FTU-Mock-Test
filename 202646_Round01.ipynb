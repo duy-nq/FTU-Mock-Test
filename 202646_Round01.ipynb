{
 "cells": [
  {
   "cell_type": "markdown",
   "metadata": {},
   "source": [
    "## **IMPORT LIBRARIES**"
   ]
  },
  {
   "cell_type": "code",
   "execution_count": 1,
   "metadata": {},
   "outputs": [],
   "source": [
    "import pandas as pd"
   ]
  },
  {
   "cell_type": "markdown",
   "metadata": {},
   "source": [
    "## **DEFAULT FUNCTIONS**"
   ]
  },
  {
   "cell_type": "code",
   "execution_count": 2,
   "metadata": {},
   "outputs": [],
   "source": [
    "def read_csv(file_name: str) -> pd.DataFrame:\n",
    "    path = './test_data/' + file_name + '.csv'\n",
    "\n",
    "    data = pd.read_csv(path, sep=',')\n",
    "\n",
    "    return data"
   ]
  },
  {
   "cell_type": "code",
   "execution_count": 3,
   "metadata": {},
   "outputs": [],
   "source": [
    "def norm_money(money: str):\n",
    "    return int(money.replace(' ₫', '').replace(',', ''))"
   ]
  },
  {
   "cell_type": "code",
   "execution_count": 4,
   "metadata": {},
   "outputs": [],
   "source": [
    "def norm_route(cr: list[int]):\n",
    "    route = [-1]\n",
    "\n",
    "    for r in cr:\n",
    "        if route[len(route)-1] == r:\n",
    "            continue\n",
    "        else:\n",
    "            route.append(r)\n",
    "\n",
    "    return route[1:]"
   ]
  },
  {
   "cell_type": "code",
   "execution_count": 5,
   "metadata": {},
   "outputs": [],
   "source": [
    "def create_route(cr: list[int]):    \n",
    "    str_route = []\n",
    "\n",
    "    for i in range(len(cr)-1):\n",
    "        str_route.append(str(cr[i]) + ' to ' + str(cr[i+1]))\n",
    "\n",
    "    return str_route"
   ]
  },
  {
   "cell_type": "markdown",
   "metadata": {},
   "source": [
    "## **SOLUTIONS**"
   ]
  },
  {
   "cell_type": "markdown",
   "metadata": {},
   "source": [
    "### Question 1"
   ]
  },
  {
   "cell_type": "code",
   "execution_count": 6,
   "metadata": {},
   "outputs": [],
   "source": [
    "def q1(data: pd.DataFrame, prod_info: pd.DataFrame):\n",
    "    def get_prod_name(shelf_id, item_id):\n",
    "        try:\n",
    "            row = prod_info[(prod_info['Item ID'] == item_id) & (prod_info['Shelf ID'] == shelf_id)]            \n",
    "            return row.iloc[0]['Name']\n",
    "        except:\n",
    "            return 'Not Found!'\n",
    "\n",
    "    lns = data.loc[:,['Shelf ID', 'Item ID', 'Looking at item (s)', 'Holding the item (s)']]\n",
    "\n",
    "    lns['Sum'] = lns['Looking at item (s)'] + lns['Holding the item (s)']\n",
    "    lns['Name'] = lns.apply(lambda row: get_prod_name(row['Shelf ID'], row['Item ID']), axis=1)\n",
    "\n",
    "    grouped_lns = lns.groupby('Name')['Sum'].sum()\n",
    "\n",
    "    return grouped_lns.sort_values(ascending=False)"
   ]
  },
  {
   "cell_type": "markdown",
   "metadata": {},
   "source": [
    "### Question 2"
   ]
  },
  {
   "cell_type": "code",
   "execution_count": 7,
   "metadata": {},
   "outputs": [],
   "source": [
    "def q2(data: pd.DataFrame, prod_info: pd.DataFrame):\n",
    "    def get_prod_name(shelf_id, item_id):\n",
    "        try:\n",
    "            row = prod_info[(prod_info['Item ID'] == item_id) & (prod_info['Shelf ID'] == shelf_id)]            \n",
    "            return row.iloc[0]['Name']\n",
    "        except:\n",
    "            return 'Not Found!'\n",
    "        \n",
    "    hnr = data.loc[:,['Shelf ID', 'Item ID', 'Holding the item (s)', 'Returning item']]\n",
    "    hnr.dropna()\n",
    "\n",
    "    hnr['Name'] = hnr.apply(lambda row: get_prod_name(row['Shelf ID'], row['Item ID']), axis=1)\n",
    "\n",
    "    hnr_true = hnr[hnr['Returning item'] == True]\n",
    "\n",
    "    return hnr_true['Name'].value_counts(ascending=False)      \n",
    "    "
   ]
  },
  {
   "cell_type": "markdown",
   "metadata": {},
   "source": [
    "### Question 3"
   ]
  },
  {
   "cell_type": "code",
   "execution_count": 8,
   "metadata": {},
   "outputs": [],
   "source": [
    "def q3(data: pd.DataFrame, prod_info: pd.DataFrame):   \n",
    "    def get_prod_name(shelf_id, item_id):\n",
    "        try:\n",
    "            row = prod_info[(prod_info['Item ID'] == item_id) & (prod_info['Shelf ID'] == shelf_id)]            \n",
    "            return row.iloc[0]['Name']\n",
    "        except:\n",
    "            return 'Not Found!'\n",
    "                \n",
    "    anp = data.loc[:,['Shelf ID', 'Item ID', 'Age', 'Putting item into bag', 'Taking item out of bag', 'Putting item into bag in the 2nd time']]\n",
    "    anp.dropna() \n",
    "\n",
    "    anp['Name'] = anp.apply(lambda row: get_prod_name(row['Shelf ID'], row['Item ID']), axis=1) \n",
    "\n",
    "    anp_buy = anp[\n",
    "        ((anp['Putting item into bag'] == True) & \n",
    "        (anp['Taking item out of bag'] == False)) |\n",
    "        ((anp['Taking item out of bag'] == True) & \n",
    "        (anp['Putting item into bag'] == True) & \n",
    "        (anp['Putting item into bag in the 2nd time'] == True))\n",
    "    ]\n",
    "\n",
    "    print(anp_buy.size, anp.size)\n",
    "\n",
    "    aba_thn = anp_buy[(anp_buy['Age'] >= 18) & (anp_buy['Age'] <= 30)]\n",
    "    aba_trn = anp_buy[(anp_buy['Age'] >= 31) & (anp_buy['Age'] <= 60)]\n",
    "    aba_cn = anp_buy[(anp_buy['Age'] >= 61)]\n",
    "\n",
    "    return aba_thn['Name'].value_counts(ascending=False), aba_trn['Name'].value_counts(ascending=False), aba_cn['Name'].value_counts(ascending=False) \n",
    "    "
   ]
  },
  {
   "cell_type": "markdown",
   "metadata": {},
   "source": [
    "### Question 4"
   ]
  },
  {
   "cell_type": "code",
   "execution_count": 9,
   "metadata": {},
   "outputs": [],
   "source": [
    "def q4(data: pd.DataFrame, prod_info: pd.DataFrame):   \n",
    "    def get_prod_name(shelf_id, item_id):\n",
    "        try:\n",
    "            row = prod_info[(prod_info['Item ID'] == item_id) & (prod_info['Shelf ID'] == shelf_id)]            \n",
    "            return row.iloc[0]['Name']\n",
    "        except:\n",
    "            return 'Not Found!'\n",
    "        \n",
    "    def get_prod_price(shelf_id, item_id):\n",
    "        try:\n",
    "            row = prod_info[(prod_info['Item ID'] == item_id) & (prod_info['Shelf ID'] == shelf_id)]            \n",
    "            return norm_money(row.iloc[0]['Price'])\n",
    "        except:\n",
    "            return 'Not Found!'\n",
    " \n",
    "    anp = data.loc[:,['Shelf ID', 'Item ID', 'Timestamp', 'Putting item into bag', 'Taking item out of bag', 'Putting item into bag in the 2nd time']]\n",
    "    anp.dropna() \n",
    "\n",
    "    anp_buy = anp[\n",
    "        ((anp['Putting item into bag'] == True) & \n",
    "        (anp['Taking item out of bag'] == False)) |\n",
    "        ((anp['Taking item out of bag'] == True) & \n",
    "        (anp['Putting item into bag'] == True) & \n",
    "        (anp['Putting item into bag in the 2nd time'] == True))\n",
    "    ]\n",
    "\n",
    "    anp_buy['Price'] = anp_buy.apply(lambda row: get_prod_price(row['Shelf ID'], row['Item ID']), axis=1) \n",
    "    anp_buy['Name'] = anp_buy.apply(lambda row: get_prod_name(row['Shelf ID'], row['Item ID']), axis=1) \n",
    "\n",
    "    anp_buy['Timestamp'] = pd.to_datetime(anp_buy['Timestamp'], unit='s')\n",
    "    anp_buy['Date'] = anp_buy['Timestamp'].dt.date\n",
    "\n",
    "    return anp_buy.groupby('Date')['Price'].sum().sort_values(ascending=False)\n"
   ]
  },
  {
   "cell_type": "markdown",
   "metadata": {},
   "source": [
    "### Question 5"
   ]
  },
  {
   "cell_type": "code",
   "execution_count": 10,
   "metadata": {},
   "outputs": [],
   "source": [
    "def q5(data: pd.DataFrame):                  \n",
    "    anp = data.loc[:,['Age']]\n",
    "\n",
    "    anp_thn = anp[(anp['Age'] >= 18) & (anp['Age'] <= 30)]\n",
    "    anp_trn = anp[(anp['Age'] >= 31) & (anp['Age'] <= 60)]\n",
    "    anp_cn = anp[(anp['Age'] >= 61)]\n",
    "\n",
    "    return anp_thn.size, anp_trn.size, anp_cn.size\n",
    "    "
   ]
  },
  {
   "cell_type": "markdown",
   "metadata": {},
   "source": [
    "### Question 6"
   ]
  },
  {
   "cell_type": "code",
   "execution_count": 11,
   "metadata": {},
   "outputs": [],
   "source": [
    "def q6(data: pd.DataFrame, prod_info: pd.DataFrame):   \n",
    "    def get_prod_name(shelf_id, item_id):\n",
    "        try:\n",
    "            row = prod_info[(prod_info['Item ID'] == item_id) & (prod_info['Shelf ID'] == shelf_id)]            \n",
    "            return row.iloc[0]['Name']\n",
    "        except:\n",
    "            return 'Not Found!'\n",
    "        \n",
    "    def get_prod_sale(shelf_id, item_id):\n",
    "        try:\n",
    "            row = prod_info[(prod_info['Item ID'] == item_id) & (prod_info['Shelf ID'] == shelf_id)]            \n",
    "            return row.iloc[0]['Discount']\n",
    "        except:\n",
    "            return 'Not Found!'\n",
    "        \n",
    "    prods = data.loc[:,['Shelf ID', 'Item ID', 'Putting item into bag', 'Taking item out of bag', 'Putting item into bag in the 2nd time']]\n",
    "    prods.dropna() \n",
    "\n",
    "    prods_buy = prods[\n",
    "        ((prods['Putting item into bag'] == True) & \n",
    "        (prods['Taking item out of bag'] == False)) |\n",
    "        ((prods['Taking item out of bag'] == True) & \n",
    "        (prods['Putting item into bag'] == True) & \n",
    "        (prods['Putting item into bag in the 2nd time'] == True))\n",
    "    ]\n",
    "\n",
    "    prods_buy['Name'] = prods_buy.apply(lambda row: get_prod_name(row['Shelf ID'], row['Item ID']), axis=1)   \n",
    "    prods_buy['Sale'] = prods_buy.apply(lambda row: get_prod_sale(row['Shelf ID'], row['Item ID']), axis=1)   \n",
    "\n",
    "    pbs = prods_buy[prods_buy['Sale'] != 0]\n",
    "\n",
    "    return pbs.groupby('Name')['Name'].value_counts().sort_values(ascending=False)\n",
    "    "
   ]
  },
  {
   "cell_type": "markdown",
   "metadata": {},
   "source": [
    "### Question 7"
   ]
  },
  {
   "cell_type": "code",
   "execution_count": 12,
   "metadata": {},
   "outputs": [],
   "source": [
    "def q7(data: pd.DataFrame, prod_info: pd.DataFrame):   \n",
    "    def get_prod_name(shelf_id, item_id):\n",
    "        try:\n",
    "            row = prod_info[(prod_info['Item ID'] == item_id) & (prod_info['Shelf ID'] == shelf_id)]            \n",
    "            return row.iloc[0]['Name']\n",
    "        except:\n",
    "            return 'Not Found!'\n",
    "        \n",
    "    def get_prod_strategy(shelf_id, item_id):\n",
    "        try:\n",
    "            row = prod_info[(prod_info['Item ID'] == item_id) & (prod_info['Shelf ID'] == shelf_id)]            \n",
    "            return row.iloc[0]['Marketing strategy']\n",
    "        except:\n",
    "            return 'Not Found!'\n",
    "        \n",
    "    prods = data.loc[:,['Shelf ID', 'Item ID', 'Putting item into bag', 'Taking item out of bag', 'Putting item into bag in the 2nd time']]\n",
    "    prods.dropna() \n",
    "\n",
    "    prods_buy = prods[\n",
    "        ((prods['Putting item into bag'] == True) & \n",
    "        (prods['Taking item out of bag'] == False)) |\n",
    "        ((prods['Taking item out of bag'] == True) & \n",
    "        (prods['Putting item into bag'] == True) & \n",
    "        (prods['Putting item into bag in the 2nd time'] == True))\n",
    "    ]\n",
    "\n",
    "    prods_buy['Name'] = prods_buy.apply(lambda row: get_prod_name(row['Shelf ID'], row['Item ID']), axis=1)   \n",
    "    prods_buy['Strategy'] = prods_buy.apply(lambda row: get_prod_strategy(row['Shelf ID'], row['Item ID']), axis=1)   \n",
    "\n",
    "    pbs = prods_buy[prods_buy['Strategy'] == True]\n",
    "\n",
    "    print(pbs['Strategy'])\n",
    "\n",
    "    return pbs.groupby('Name')['Name'].value_counts().sort_values(ascending=False)\n",
    "    "
   ]
  },
  {
   "cell_type": "markdown",
   "metadata": {},
   "source": [
    "### Question 8"
   ]
  },
  {
   "cell_type": "code",
   "execution_count": 13,
   "metadata": {},
   "outputs": [],
   "source": [
    "def q8(data: pd.DataFrame):\n",
    "    lns = data.loc[:,['Shelf ID', 'Item ID', 'Looking at item (s)', 'Holding the item (s)']]\n",
    "\n",
    "    lns['Sum'] = lns['Looking at item (s)'] + lns['Holding the item (s)']\n",
    "    \n",
    "    result = lns.groupby('Shelf ID').agg(\n",
    "        total_time = ('Sum', 'sum'),\n",
    "        interaction = ('Shelf ID', 'count')\n",
    "    )\n",
    "\n",
    "    result['avg'] = result['total_time'] / result['interaction']\n",
    "\n",
    "    return result.sort_values(by=['avg'], ascending=False)"
   ]
  },
  {
   "cell_type": "markdown",
   "metadata": {},
   "source": [
    "### Question 9"
   ]
  },
  {
   "cell_type": "code",
   "execution_count": 14,
   "metadata": {},
   "outputs": [],
   "source": [
    "def q9(data: pd.DataFrame):          \n",
    "    prods = data.loc[:,['Shelf ID', 'Item ID', 'Putting item into bag', 'Taking item out of bag', 'Putting item into bag in the 2nd time']]\n",
    "    prods.dropna() \n",
    "\n",
    "    prods_buy = prods[\n",
    "        ((prods['Putting item into bag'] == True) & \n",
    "        (prods['Taking item out of bag'] == False)) |\n",
    "        ((prods['Taking item out of bag'] == True) & \n",
    "        (prods['Putting item into bag'] == True) & \n",
    "        (prods['Putting item into bag in the 2nd time'] == True))\n",
    "    ]\n",
    "\n",
    "    return prods_buy.groupby('Shelf ID')['Shelf ID'].value_counts().sort_values(ascending=False)\n",
    "    "
   ]
  },
  {
   "cell_type": "markdown",
   "metadata": {},
   "source": [
    "### Question 10"
   ]
  },
  {
   "cell_type": "code",
   "execution_count": 15,
   "metadata": {},
   "outputs": [],
   "source": [
    "def q10(data: pd.DataFrame):          \n",
    "    cust = list(data.loc[:,['Person ID']]['Person ID'].unique())\n",
    "    routes = []\n",
    "\n",
    "    for cust_id in cust:\n",
    "        cr = norm_route(list(data[(data['Person ID'] == cust_id)]['Shelf ID']))\n",
    "        if len(cr) != 1:\n",
    "            routes += create_route(cr)\n",
    "\n",
    "    rdf = pd.DataFrame(routes, columns=['Route'])\n",
    "\n",
    "    return rdf.value_counts().sort_values(ascending=False)    "
   ]
  },
  {
   "cell_type": "markdown",
   "metadata": {},
   "source": [
    "### Question 11"
   ]
  },
  {
   "cell_type": "code",
   "execution_count": 35,
   "metadata": {},
   "outputs": [],
   "source": [
    "def q11_1(data: pd.DataFrame, prod_info: pd.DataFrame):   \n",
    "    def get_prod_price(shelf_id, item_id):\n",
    "        try:\n",
    "            row = prod_info[(prod_info['Item ID'] == item_id) & (prod_info['Shelf ID'] == shelf_id)]            \n",
    "            return norm_money(row.iloc[0]['Price'])\n",
    "        except:\n",
    "            return 'Not Found!'\n",
    " \n",
    "    anp = data.loc[:,['Shelf ID', 'Item ID', 'Putting item into bag', 'Taking item out of bag', 'Putting item into bag in the 2nd time']]\n",
    "    anp.dropna() \n",
    "\n",
    "    anp_buy = anp[\n",
    "        ((anp['Putting item into bag'] == True) & \n",
    "        (anp['Taking item out of bag'] == False)) |\n",
    "        ((anp['Taking item out of bag'] == True) & \n",
    "        (anp['Putting item into bag'] == True) & \n",
    "        (anp['Putting item into bag in the 2nd time'] == True))\n",
    "    ]\n",
    "\n",
    "    anp_buy['Price'] = anp_buy.apply(lambda row: get_prod_price(row['Shelf ID'], row['Item ID']), axis=1) \n",
    "\n",
    "    return anp_buy.groupby('Shelf ID')['Price'].sum().sort_values(ascending=False)\n"
   ]
  },
  {
   "cell_type": "code",
   "execution_count": 60,
   "metadata": {},
   "outputs": [],
   "source": [
    "def q11_2(data: pd.DataFrame, prod_info: pd.DataFrame, shelf: int):   \n",
    "    def get_prod_name(shelf_id, item_id):\n",
    "        try:\n",
    "            row = prod_info[(prod_info['Item ID'] == item_id) & (prod_info['Shelf ID'] == shelf_id)]            \n",
    "            return row.iloc[0]['Name']\n",
    "        except:\n",
    "            return 'Not Found!'\n",
    "    \n",
    "    def get_prod_price(shelf_id, item_id):\n",
    "        try:\n",
    "            row = prod_info[(prod_info['Item ID'] == item_id) & (prod_info['Shelf ID'] == shelf_id)]            \n",
    "            return norm_money(row.iloc[0]['Price'])\n",
    "        except:\n",
    "            return 'Not Found!'\n",
    " \n",
    "    def get_prod_location(name):\n",
    "        try:\n",
    "            row = prod_info[(prod_info['Name'] == name)]            \n",
    "            return row.iloc[0]['Location']\n",
    "        except:\n",
    "            return 'Not Found!'\n",
    "\n",
    "    anp = data.loc[:,['Shelf ID', 'Item ID', 'Putting item into bag', 'Taking item out of bag', 'Putting item into bag in the 2nd time']]\n",
    "    anp.dropna() \n",
    "\n",
    "    anp_buy = anp[\n",
    "        ((anp['Putting item into bag'] == True) & \n",
    "        (anp['Taking item out of bag'] == False)) |\n",
    "        ((anp['Taking item out of bag'] == True) & \n",
    "        (anp['Putting item into bag'] == True) & \n",
    "        (anp['Putting item into bag in the 2nd time'] == True))\n",
    "    ]\n",
    "\n",
    "    anp_buy['Name'] = anp_buy.apply(lambda row: get_prod_name(row['Shelf ID'], row['Item ID']), axis=1) \n",
    "    anp_buy['Price'] = anp_buy.apply(lambda row: get_prod_price(row['Shelf ID'], row['Item ID']), axis=1)\n",
    "\n",
    "    result = anp_buy[anp_buy['Shelf ID'] == shelf]\n",
    "\n",
    "    grouped_result = result.groupby('Name').agg(\n",
    "        total = ('Price', 'sum')\n",
    "    ).reset_index()\n",
    "\n",
    "    grouped_result['Location'] = grouped_result.apply(lambda row: get_prod_location(row['Name']), axis=1)\n",
    "\n",
    "    return grouped_result.sort_values(by=['total'], ascending=False)\n"
   ]
  },
  {
   "cell_type": "markdown",
   "metadata": {},
   "source": [
    "### Question 12"
   ]
  },
  {
   "cell_type": "code",
   "execution_count": 113,
   "metadata": {},
   "outputs": [],
   "source": [
    "def q12_1(data: pd.DataFrame, prod_info: pd.DataFrame, shelf: int):   \n",
    "    def get_prod_name(shelf_id, item_id):\n",
    "        try:\n",
    "            row = prod_info[(prod_info['Item ID'] == item_id) & (prod_info['Shelf ID'] == shelf_id)]            \n",
    "            return row.iloc[0]['Name']\n",
    "        except:\n",
    "            return 'Not Found!'\n",
    "        \n",
    "    def get_prod_sale(shelf_id, item_id):\n",
    "        try:\n",
    "            row = prod_info[(prod_info['Item ID'] == item_id) & (prod_info['Shelf ID'] == shelf_id)]            \n",
    "            return row.iloc[0]['Discount']\n",
    "        except:\n",
    "            return 'Not Found!'\n",
    "        \n",
    "    def get_prod_strategy(shelf_id, item_id):\n",
    "        try:\n",
    "            row = prod_info[(prod_info['Item ID'] == item_id) & (prod_info['Shelf ID'] == shelf_id)]            \n",
    "            return row.iloc[0]['Marketing strategy']\n",
    "        except:\n",
    "            return 'Not Found!'\n",
    "        \n",
    "    prods = data.loc[:,['Shelf ID', 'Item ID', 'Putting item into bag', 'Taking item out of bag', 'Putting item into bag in the 2nd time']]\n",
    "    prods.dropna()\n",
    "\n",
    "    pbs = prods[prods['Shelf ID'] == shelf] \n",
    "\n",
    "    pbs_buy = pbs[\n",
    "        ((prods['Putting item into bag'] == True) & \n",
    "        (prods['Taking item out of bag'] == False)) |\n",
    "        ((prods['Taking item out of bag'] == True) & \n",
    "        (prods['Putting item into bag'] == True) & \n",
    "        (prods['Putting item into bag in the 2nd time'] == True))\n",
    "    ]\n",
    "\n",
    "    pbs_buy['Name'] = pbs_buy.apply(lambda row: get_prod_name(row['Shelf ID'], row['Item ID']), axis=1)   \n",
    "    pbs_buy['Sale'] = pbs_buy.apply(lambda row: get_prod_sale(row['Shelf ID'], row['Item ID']), axis=1)   \n",
    "    pbs_buy['Strategy'] = pbs_buy.apply(lambda row: get_prod_strategy(row['Shelf ID'], row['Item ID']), axis=1)  \n",
    "\n",
    "    both = pbs_buy[(pbs_buy['Strategy'] == True) & ((pbs_buy['Sale'] != 0))]['Name'].size\n",
    "    marketing = pbs_buy[(pbs_buy['Strategy'] == True) & ((pbs_buy['Sale'] == 0))]['Name'].size \n",
    "    sales = pbs_buy[(pbs_buy['Strategy'] == False) & ((pbs_buy['Sale'] != 0))]['Name'].size \n",
    "    nothing = pbs_buy[(pbs_buy['Strategy'] == False) & ((pbs_buy['Sale'] == 0))]['Name'].size\n",
    "\n",
    "    return both, marketing, sales, nothing\n",
    "    "
   ]
  },
  {
   "cell_type": "code",
   "execution_count": 114,
   "metadata": {},
   "outputs": [],
   "source": [
    "def q12_2(data: pd.DataFrame, prod_info: pd.DataFrame):   \n",
    "    def get_prod_name(shelf_id, item_id):\n",
    "        try:\n",
    "            row = prod_info[(prod_info['Item ID'] == item_id) & (prod_info['Shelf ID'] == shelf_id)]            \n",
    "            return row.iloc[0]['Name']\n",
    "        except:\n",
    "            return 'Not Found!'\n",
    "        \n",
    "    def get_prod_sale(shelf_id, item_id):\n",
    "        try:\n",
    "            row = prod_info[(prod_info['Item ID'] == item_id) & (prod_info['Shelf ID'] == shelf_id)]            \n",
    "            return row.iloc[0]['Discount']\n",
    "        except:\n",
    "            return 'Not Found!'\n",
    "        \n",
    "    def get_prod_strategy(shelf_id, item_id):\n",
    "        try:\n",
    "            row = prod_info[(prod_info['Item ID'] == item_id) & (prod_info['Shelf ID'] == shelf_id)]            \n",
    "            return row.iloc[0]['Marketing strategy']\n",
    "        except:\n",
    "            return 'Not Found!'\n",
    "        \n",
    "    prods = data.loc[:,['Shelf ID', 'Item ID', 'Putting item into bag', 'Taking item out of bag', 'Putting item into bag in the 2nd time']]\n",
    "    prods.dropna()\n",
    "\n",
    "    prods_buy = prods[\n",
    "        ((prods['Putting item into bag'] == True) & \n",
    "        (prods['Taking item out of bag'] == False)) |\n",
    "        ((prods['Taking item out of bag'] == True) & \n",
    "        (prods['Putting item into bag'] == True) & \n",
    "        (prods['Putting item into bag in the 2nd time'] == True))\n",
    "    ]\n",
    "\n",
    "    prods_buy['Name'] = prods_buy.apply(lambda row: get_prod_name(row['Shelf ID'], row['Item ID']), axis=1)   \n",
    "    prods_buy['Sale'] = prods_buy.apply(lambda row: get_prod_sale(row['Shelf ID'], row['Item ID']), axis=1)   \n",
    "    prods_buy['Strategy'] = prods_buy.apply(lambda row: get_prod_strategy(row['Shelf ID'], row['Item ID']), axis=1)  \n",
    "\n",
    "    both = prods_buy[(prods_buy['Strategy'] == True) & ((prods_buy['Sale'] != 0))]['Name'].size\n",
    "    marketing = prods_buy[(prods_buy['Strategy'] == True) & ((prods_buy['Sale'] == 0))]['Name'].size \n",
    "    sales = prods_buy[(prods_buy['Strategy'] == False) & ((prods_buy['Sale'] != 0))]['Name'].size \n",
    "    nothing = prods_buy[(prods_buy['Strategy'] == False) & ((prods_buy['Sale'] == 0))]['Name'].size\n",
    "\n",
    "    return both, marketing, sales, nothing\n",
    "    "
   ]
  },
  {
   "cell_type": "markdown",
   "metadata": {},
   "source": [
    "## **RUN IT!**"
   ]
  },
  {
   "cell_type": "markdown",
   "metadata": {},
   "source": [
    "### Init"
   ]
  },
  {
   "cell_type": "code",
   "execution_count": 17,
   "metadata": {},
   "outputs": [],
   "source": [
    "cust_data = read_csv('03_Customer_Behavior_Data')\n",
    "item_data = read_csv('03_Item_Information_Data')\n",
    "shelf_data = read_csv('03_Shelf_Information_Data')"
   ]
  },
  {
   "cell_type": "code",
   "execution_count": 18,
   "metadata": {},
   "outputs": [
    {
     "data": {
      "text/plain": [
       "Shelf ID\n",
       "7    3305\n",
       "0    2789\n",
       "1    2363\n",
       "2    1909\n",
       "4    1878\n",
       "3    1302\n",
       "6    1087\n",
       "5     761\n",
       "Name: count, dtype: int64"
      ]
     },
     "execution_count": 18,
     "metadata": {},
     "output_type": "execute_result"
    }
   ],
   "source": [
    "cust_data.groupby('Shelf ID')['Shelf ID'].value_counts().sort_values(ascending=False)"
   ]
  },
  {
   "cell_type": "code",
   "execution_count": 19,
   "metadata": {},
   "outputs": [
    {
     "data": {
      "text/plain": [
       "Shelf ID\n",
       "0     78503\n",
       "1     61420\n",
       "2     54811\n",
       "3     40689\n",
       "4     57541\n",
       "5     24391\n",
       "6     23008\n",
       "7    101444\n",
       "Name: Looking at item (s), dtype: int64"
      ]
     },
     "execution_count": 19,
     "metadata": {},
     "output_type": "execute_result"
    }
   ],
   "source": [
    "cust_data.groupby('Shelf ID')['Looking at item (s)'].sum()"
   ]
  },
  {
   "cell_type": "markdown",
   "metadata": {},
   "source": [
    "### Answer 1"
   ]
  },
  {
   "cell_type": "code",
   "execution_count": 20,
   "metadata": {},
   "outputs": [
    {
     "data": {
      "text/plain": [
       "Name\n",
       "Sữa chua uống Probi                                                    22896\n",
       "Sữa chua uống Yakult                                                   22896\n",
       "Sữa ông thọ                                                            13939\n",
       "Bim bim Oishi                                                          13866\n",
       "Snack khoai tây Lays                                                   13362\n",
       "                                                                       ...  \n",
       "Tã dán sơ sinh Bobby siêu mỏng Newborn 70 miếng (cho bé dưới 5kg)     1669\n",
       "Sách Thám tử Sherlock Home                                              1463\n",
       "Sách cho trẻ từ 1-2 tuổi                                                1421\n",
       "Truyện Doraemon                                                         1378\n",
       "Sách Ðạo Tình                                                           1152\n",
       "Name: Sum, Length: 134, dtype: int64"
      ]
     },
     "execution_count": 20,
     "metadata": {},
     "output_type": "execute_result"
    }
   ],
   "source": [
    "a1 = q1(cust_data, item_data)\n",
    "\n",
    "a1"
   ]
  },
  {
   "cell_type": "markdown",
   "metadata": {},
   "source": [
    "### Answer 2"
   ]
  },
  {
   "cell_type": "code",
   "execution_count": 21,
   "metadata": {},
   "outputs": [
    {
     "data": {
      "text/plain": [
       "Name\n",
       "4 hộp sữa lúa mạch Milo 180ml    134\n",
       "Snack khoai tây Lays             127\n",
       "Mý ý SG Food                     117\n",
       "Nước lẩu Barona                  116\n",
       "Sữa chua Vinamik                 114\n",
       "                                ... \n",
       "Bia Sài Gòn Special                8\n",
       "Chảo Lock&Lock                     7\n",
       "Bếp nướng Lock&Lock                7\n",
       "Chảo Sunhouse                      6\n",
       "Máy xay sinh tố Comet              6\n",
       "Name: count, Length: 131, dtype: int64"
      ]
     },
     "execution_count": 21,
     "metadata": {},
     "output_type": "execute_result"
    }
   ],
   "source": [
    "a2 = q2(cust_data, item_data)\n",
    "\n",
    "a2"
   ]
  },
  {
   "cell_type": "markdown",
   "metadata": {},
   "source": [
    "### Answer 3"
   ]
  },
  {
   "cell_type": "code",
   "execution_count": 22,
   "metadata": {},
   "outputs": [
    {
     "name": "stdout",
     "output_type": "stream",
     "text": [
      "41440 107758\n"
     ]
    }
   ],
   "source": [
    "a3_thn, a3_trn, a3_cn = q3(cust_data, item_data)"
   ]
  },
  {
   "cell_type": "code",
   "execution_count": 23,
   "metadata": {},
   "outputs": [
    {
     "data": {
      "text/plain": [
       "Name\n",
       "Bánh trứng Custard                            46\n",
       "Lốc 4 hộp sữa tươi ít đường TH true MILK      45\n",
       "Sữa bột Milo                                  38\n",
       "Tã dán Merries size NB 76 miếng (dưới 5kg)    32\n",
       "Kem tràng tiền                                31\n",
       "                                              ..\n",
       "Miếng dong Miến vương                          1\n",
       "Sách cho trẻ sơ sinh đến 6 tháng tuổi          1\n",
       "Ngũ cốc VinaCafe                               1\n",
       "Nồi cơm điện Kangaroo                          1\n",
       "Sách cho trẻ từ 1-2 tuổi                       1\n",
       "Name: count, Length: 132, dtype: int64"
      ]
     },
     "execution_count": 23,
     "metadata": {},
     "output_type": "execute_result"
    }
   ],
   "source": [
    "a3_thn"
   ]
  },
  {
   "cell_type": "code",
   "execution_count": 24,
   "metadata": {},
   "outputs": [
    {
     "data": {
      "text/plain": [
       "Name\n",
       "Kem tràng tiền                                                         96\n",
       "Lốc 4 hộp sữa tươi ít đường TH true MILK                               92\n",
       "Sữa bột Milo                                                           78\n",
       "Bánh trứng Custard                                                     72\n",
       "Tã dán sơ sinh Bobby siêu mỏng Newborn 70 miếng (cho bé dưới 5kg)    66\n",
       "                                                                       ..\n",
       "Ðèn bàn Ðiện Quang                                                      3\n",
       "Sách cho trẻ từ 4-5 tuổi                                                2\n",
       "Nồi cơm điện Kangaroo                                                   1\n",
       "Sách cho trẻ từ 2-3 tuổi                                                1\n",
       "Sách Thám tử Sherlock Home                                              1\n",
       "Name: count, Length: 134, dtype: int64"
      ]
     },
     "execution_count": 24,
     "metadata": {},
     "output_type": "execute_result"
    }
   ],
   "source": [
    "a3_trn"
   ]
  },
  {
   "cell_type": "code",
   "execution_count": 25,
   "metadata": {},
   "outputs": [
    {
     "data": {
      "text/plain": [
       "Name\n",
       "Bánh trứng Custard                            53\n",
       "Sữa bột Milo                                  51\n",
       "Lốc 4 hộp sữa tươi ít đường TH true MILK      50\n",
       "Kem tràng tiền                                42\n",
       "Tã dán Merries size NB 76 miếng (dưới 5kg)    38\n",
       "                                              ..\n",
       "Phích cắm điện Ðiện Quang                      1\n",
       "Bếp điện từ Sunhouse                           1\n",
       "Sách cho trẻ từ 4-5 tuổi                       1\n",
       "Sách cho trẻ sơ sinh đến 6 tháng tuổi          1\n",
       "Xì dầu Tam Thái tử                             1\n",
       "Name: count, Length: 134, dtype: int64"
      ]
     },
     "execution_count": 25,
     "metadata": {},
     "output_type": "execute_result"
    }
   ],
   "source": [
    "a3_cn"
   ]
  },
  {
   "cell_type": "markdown",
   "metadata": {},
   "source": [
    "### Answer 4"
   ]
  },
  {
   "cell_type": "code",
   "execution_count": 26,
   "metadata": {},
   "outputs": [
    {
     "name": "stderr",
     "output_type": "stream",
     "text": [
      "C:\\Users\\HP\\AppData\\Local\\Temp\\ipykernel_13040\\3707479508.py:27: SettingWithCopyWarning: \n",
      "A value is trying to be set on a copy of a slice from a DataFrame.\n",
      "Try using .loc[row_indexer,col_indexer] = value instead\n",
      "\n",
      "See the caveats in the documentation: https://pandas.pydata.org/pandas-docs/stable/user_guide/indexing.html#returning-a-view-versus-a-copy\n",
      "  anp_buy['Price'] = anp_buy.apply(lambda row: get_prod_price(row['Shelf ID'], row['Item ID']), axis=1)\n",
      "C:\\Users\\HP\\AppData\\Local\\Temp\\ipykernel_13040\\3707479508.py:28: SettingWithCopyWarning: \n",
      "A value is trying to be set on a copy of a slice from a DataFrame.\n",
      "Try using .loc[row_indexer,col_indexer] = value instead\n",
      "\n",
      "See the caveats in the documentation: https://pandas.pydata.org/pandas-docs/stable/user_guide/indexing.html#returning-a-view-versus-a-copy\n",
      "  anp_buy['Name'] = anp_buy.apply(lambda row: get_prod_name(row['Shelf ID'], row['Item ID']), axis=1)\n",
      "C:\\Users\\HP\\AppData\\Local\\Temp\\ipykernel_13040\\3707479508.py:30: SettingWithCopyWarning: \n",
      "A value is trying to be set on a copy of a slice from a DataFrame.\n",
      "Try using .loc[row_indexer,col_indexer] = value instead\n",
      "\n",
      "See the caveats in the documentation: https://pandas.pydata.org/pandas-docs/stable/user_guide/indexing.html#returning-a-view-versus-a-copy\n",
      "  anp_buy['Timestamp'] = pd.to_datetime(anp_buy['Timestamp'], unit='s')\n",
      "C:\\Users\\HP\\AppData\\Local\\Temp\\ipykernel_13040\\3707479508.py:31: SettingWithCopyWarning: \n",
      "A value is trying to be set on a copy of a slice from a DataFrame.\n",
      "Try using .loc[row_indexer,col_indexer] = value instead\n",
      "\n",
      "See the caveats in the documentation: https://pandas.pydata.org/pandas-docs/stable/user_guide/indexing.html#returning-a-view-versus-a-copy\n",
      "  anp_buy['Date'] = anp_buy['Timestamp'].dt.date\n"
     ]
    },
    {
     "data": {
      "text/plain": [
       "Date\n",
       "2024-07-06    238686900\n",
       "2024-07-07    221067200\n",
       "2024-07-02     69922100\n",
       "2024-07-04     68094500\n",
       "2024-07-05     62646400\n",
       "2024-07-03     51912100\n",
       "2024-07-08     29413400\n",
       "2024-07-01     19623300\n",
       "Name: Price, dtype: int64"
      ]
     },
     "execution_count": 26,
     "metadata": {},
     "output_type": "execute_result"
    }
   ],
   "source": [
    "a4 = q4(cust_data, item_data)\n",
    "\n",
    "a4"
   ]
  },
  {
   "cell_type": "markdown",
   "metadata": {},
   "source": [
    "### Answer 5"
   ]
  },
  {
   "cell_type": "code",
   "execution_count": 27,
   "metadata": {},
   "outputs": [
    {
     "name": "stdout",
     "output_type": "stream",
     "text": [
      "3574 7617 4203\n"
     ]
    }
   ],
   "source": [
    "a3_thn, a3_trn, a3_cn = q5(cust_data)\n",
    "\n",
    "print(a3_thn, a3_trn, a3_cn)"
   ]
  },
  {
   "cell_type": "markdown",
   "metadata": {},
   "source": [
    "### Answer 6"
   ]
  },
  {
   "cell_type": "code",
   "execution_count": 28,
   "metadata": {},
   "outputs": [
    {
     "name": "stderr",
     "output_type": "stream",
     "text": [
      "C:\\Users\\HP\\AppData\\Local\\Temp\\ipykernel_13040\\2522391787.py:27: SettingWithCopyWarning: \n",
      "A value is trying to be set on a copy of a slice from a DataFrame.\n",
      "Try using .loc[row_indexer,col_indexer] = value instead\n",
      "\n",
      "See the caveats in the documentation: https://pandas.pydata.org/pandas-docs/stable/user_guide/indexing.html#returning-a-view-versus-a-copy\n",
      "  prods_buy['Name'] = prods_buy.apply(lambda row: get_prod_name(row['Shelf ID'], row['Item ID']), axis=1)\n",
      "C:\\Users\\HP\\AppData\\Local\\Temp\\ipykernel_13040\\2522391787.py:28: SettingWithCopyWarning: \n",
      "A value is trying to be set on a copy of a slice from a DataFrame.\n",
      "Try using .loc[row_indexer,col_indexer] = value instead\n",
      "\n",
      "See the caveats in the documentation: https://pandas.pydata.org/pandas-docs/stable/user_guide/indexing.html#returning-a-view-versus-a-copy\n",
      "  prods_buy['Sale'] = prods_buy.apply(lambda row: get_prod_sale(row['Shelf ID'], row['Item ID']), axis=1)\n"
     ]
    },
    {
     "data": {
      "text/plain": [
       "Name\n",
       "Bánh trứng Custard                                171\n",
       "Kem tràng tiền                                    169\n",
       "Sữa bột Milo                                      167\n",
       "Dầu gội Romano                                    105\n",
       "Khăn mặt Shine                                    102\n",
       "Khăn tắm Shine                                     98\n",
       "Tã dán sơ sinh Goo.n Premium Newborn 70 miếng     88\n",
       "Dầu gội Dove                                       87\n",
       "Hạt hướng dương Chacheer                           78\n",
       "Nước mắm Nam ngư                                   77\n",
       "Snack khoai tây Lays                               76\n",
       "Nước mắm cá cơm Thuận Phát                         75\n",
       "Bim bim Oishi                                      73\n",
       "Sữa chua uống Probi                                69\n",
       "Socola trứng Kinder                                66\n",
       "Ðường kính Toàn Phát                               66\n",
       "Nước mắm hạnh phúc                                 64\n",
       "Sửa bột Anele                                      62\n",
       "Bánh Oreo                                          58\n",
       "Kẹo dẻo Alphelibe                                  56\n",
       "Bia Sài Gòn Special                                53\n",
       "Tăm bông ngoáy tai Famapro                         44\n",
       "Bàn chải Colgate                                   42\n",
       "Vodka Hà Nội                                       41\n",
       "Dầu gội Sunsilk                                    40\n",
       "Nồi cơm điện Sunhouse                              38\n",
       "Ðường phèn Biên Hoà                                36\n",
       "Strongbow dâu đen                                  36\n",
       "Bếp điện từ Lock&Lock                              35\n",
       "Dầu hào Maggi                                      34\n",
       "Máy xay sinh tố Lock&Lock                          34\n",
       "Fanta                                              33\n",
       "Chảo Lock&Lock                                     33\n",
       "Máy xay sinh tố Sunhouse                           32\n",
       "Gạo ST25 Neptune                                   31\n",
       "Dầu ăn Tường An                                    31\n",
       "Chảo Sunhouse                                      31\n",
       "Nồi cơm điện Lock&Lock                             30\n",
       "Nước mắm cho bé Thuyền xưa                         30\n",
       "Nồi cơm điện Cuckcoo                               30\n",
       "Sửa rửa mặt Oxy                                    29\n",
       "Dầu gội XMen                                       28\n",
       "Mỳ chính Ajinomoto                                 28\n",
       "Máy xay sinh tố Comet                              28\n",
       "Nước mắm Chinsu                                    27\n",
       "Nước mắm cho bé Barona                             26\n",
       "Vodka Cá sấu                                       26\n",
       "Bếp nướng Lock&Lock                                25\n",
       "Dầu ăn Simply                                      24\n",
       "Mỳ chính Miwon                                     20\n",
       "Coca Cola                                          18\n",
       "Bếp nướng Sunhouse                                 16\n",
       "Vang đỏ đà lạt                                     15\n",
       "Ổ cắm điện Lioa                                    15\n",
       "Sprite                                             14\n",
       "Nui Safoco                                         14\n",
       "Bếp điện từ Sunhouse                                9\n",
       "Phích cắm điện Ðiện Quang                           5\n",
       "Nồi cơm điện Kangaroo                               5\n",
       "Ðèn bàn Ðiện Quang                                  5\n",
       "Name: count, dtype: int64"
      ]
     },
     "execution_count": 28,
     "metadata": {},
     "output_type": "execute_result"
    }
   ],
   "source": [
    "a6 = q6(cust_data, item_data)\n",
    "\n",
    "a6"
   ]
  },
  {
   "cell_type": "markdown",
   "metadata": {},
   "source": [
    "### Answer 7"
   ]
  },
  {
   "cell_type": "code",
   "execution_count": 29,
   "metadata": {},
   "outputs": [
    {
     "name": "stderr",
     "output_type": "stream",
     "text": [
      "C:\\Users\\HP\\AppData\\Local\\Temp\\ipykernel_13040\\1486830990.py:27: SettingWithCopyWarning: \n",
      "A value is trying to be set on a copy of a slice from a DataFrame.\n",
      "Try using .loc[row_indexer,col_indexer] = value instead\n",
      "\n",
      "See the caveats in the documentation: https://pandas.pydata.org/pandas-docs/stable/user_guide/indexing.html#returning-a-view-versus-a-copy\n",
      "  prods_buy['Name'] = prods_buy.apply(lambda row: get_prod_name(row['Shelf ID'], row['Item ID']), axis=1)\n"
     ]
    },
    {
     "name": "stdout",
     "output_type": "stream",
     "text": [
      "21       True\n",
      "23       True\n",
      "40       True\n",
      "45       True\n",
      "53       True\n",
      "         ... \n",
      "15327    True\n",
      "15350    True\n",
      "15355    True\n",
      "15363    True\n",
      "15365    True\n",
      "Name: Strategy, Length: 1211, dtype: bool\n"
     ]
    },
    {
     "name": "stderr",
     "output_type": "stream",
     "text": [
      "C:\\Users\\HP\\AppData\\Local\\Temp\\ipykernel_13040\\1486830990.py:28: SettingWithCopyWarning: \n",
      "A value is trying to be set on a copy of a slice from a DataFrame.\n",
      "Try using .loc[row_indexer,col_indexer] = value instead\n",
      "\n",
      "See the caveats in the documentation: https://pandas.pydata.org/pandas-docs/stable/user_guide/indexing.html#returning-a-view-versus-a-copy\n",
      "  prods_buy['Strategy'] = prods_buy.apply(lambda row: get_prod_strategy(row['Shelf ID'], row['Item ID']), axis=1)\n"
     ]
    },
    {
     "data": {
      "text/plain": [
       "Name\n",
       "Bánh trứng Custard                                171\n",
       "Kem tràng tiền                                    169\n",
       "Sữa bột Milo                                      167\n",
       "Khăn mặt Shine                                    102\n",
       "Khăn tắm Shine                                     98\n",
       "Tã dán sơ sinh Goo.n Premium Newborn 70 miếng     88\n",
       "Dầu gội Dove                                       87\n",
       "Nước mắm cá cơm Thuận Phát                         75\n",
       "Strongbow dâu đen                                  36\n",
       "Bếp điện từ Lock&Lock                              35\n",
       "Máy xay sinh tố Lock&Lock                          34\n",
       "Chảo Lock&Lock                                     33\n",
       "Gạo ST25 Neptune                                   31\n",
       "Nồi cơm điện Cuckcoo                               30\n",
       "Nồi cơm điện Lock&Lock                             30\n",
       "Bếp nướng Lock&Lock                                25\n",
       "Name: count, dtype: int64"
      ]
     },
     "execution_count": 29,
     "metadata": {},
     "output_type": "execute_result"
    }
   ],
   "source": [
    "a7 = q7(cust_data, item_data)\n",
    "\n",
    "a7"
   ]
  },
  {
   "cell_type": "markdown",
   "metadata": {},
   "source": [
    "### Answer 8"
   ]
  },
  {
   "cell_type": "code",
   "execution_count": 30,
   "metadata": {},
   "outputs": [
    {
     "data": {
      "text/html": [
       "<div>\n",
       "<style scoped>\n",
       "    .dataframe tbody tr th:only-of-type {\n",
       "        vertical-align: middle;\n",
       "    }\n",
       "\n",
       "    .dataframe tbody tr th {\n",
       "        vertical-align: top;\n",
       "    }\n",
       "\n",
       "    .dataframe thead th {\n",
       "        text-align: right;\n",
       "    }\n",
       "</style>\n",
       "<table border=\"1\" class=\"dataframe\">\n",
       "  <thead>\n",
       "    <tr style=\"text-align: right;\">\n",
       "      <th></th>\n",
       "      <th>total_time</th>\n",
       "      <th>interaction</th>\n",
       "      <th>avg</th>\n",
       "    </tr>\n",
       "    <tr>\n",
       "      <th>Shelf ID</th>\n",
       "      <th></th>\n",
       "      <th></th>\n",
       "      <th></th>\n",
       "    </tr>\n",
       "  </thead>\n",
       "  <tbody>\n",
       "    <tr>\n",
       "      <th>5</th>\n",
       "      <td>47380</td>\n",
       "      <td>761</td>\n",
       "      <td>62.260184</td>\n",
       "    </tr>\n",
       "    <tr>\n",
       "      <th>7</th>\n",
       "      <td>201638</td>\n",
       "      <td>3305</td>\n",
       "      <td>61.009985</td>\n",
       "    </tr>\n",
       "    <tr>\n",
       "      <th>3</th>\n",
       "      <td>77919</td>\n",
       "      <td>1302</td>\n",
       "      <td>59.845622</td>\n",
       "    </tr>\n",
       "    <tr>\n",
       "      <th>4</th>\n",
       "      <td>108934</td>\n",
       "      <td>1878</td>\n",
       "      <td>58.005325</td>\n",
       "    </tr>\n",
       "    <tr>\n",
       "      <th>2</th>\n",
       "      <td>106461</td>\n",
       "      <td>1909</td>\n",
       "      <td>55.767941</td>\n",
       "    </tr>\n",
       "    <tr>\n",
       "      <th>0</th>\n",
       "      <td>153458</td>\n",
       "      <td>2789</td>\n",
       "      <td>55.022589</td>\n",
       "    </tr>\n",
       "    <tr>\n",
       "      <th>1</th>\n",
       "      <td>120088</td>\n",
       "      <td>2363</td>\n",
       "      <td>50.820144</td>\n",
       "    </tr>\n",
       "    <tr>\n",
       "      <th>6</th>\n",
       "      <td>42914</td>\n",
       "      <td>1087</td>\n",
       "      <td>39.479301</td>\n",
       "    </tr>\n",
       "  </tbody>\n",
       "</table>\n",
       "</div>"
      ],
      "text/plain": [
       "          total_time  interaction        avg\n",
       "Shelf ID                                    \n",
       "5              47380          761  62.260184\n",
       "7             201638         3305  61.009985\n",
       "3              77919         1302  59.845622\n",
       "4             108934         1878  58.005325\n",
       "2             106461         1909  55.767941\n",
       "0             153458         2789  55.022589\n",
       "1             120088         2363  50.820144\n",
       "6              42914         1087  39.479301"
      ]
     },
     "execution_count": 30,
     "metadata": {},
     "output_type": "execute_result"
    }
   ],
   "source": [
    "a8 = q8(cust_data)\n",
    "\n",
    "a8"
   ]
  },
  {
   "cell_type": "markdown",
   "metadata": {},
   "source": [
    "### Answer 9"
   ]
  },
  {
   "cell_type": "code",
   "execution_count": 31,
   "metadata": {},
   "outputs": [
    {
     "data": {
      "text/plain": [
       "Shelf ID\n",
       "1    1158\n",
       "7    1146\n",
       "0     969\n",
       "2     774\n",
       "4     698\n",
       "3     522\n",
       "5     371\n",
       "6     282\n",
       "Name: count, dtype: int64"
      ]
     },
     "execution_count": 31,
     "metadata": {},
     "output_type": "execute_result"
    }
   ],
   "source": [
    "a9 = q9(cust_data)\n",
    "\n",
    "a9"
   ]
  },
  {
   "cell_type": "markdown",
   "metadata": {},
   "source": [
    "### Answer 10"
   ]
  },
  {
   "cell_type": "code",
   "execution_count": 32,
   "metadata": {},
   "outputs": [
    {
     "data": {
      "text/plain": [
       "Route \n",
       "7 to 0    123\n",
       "0 to 7    109\n",
       "1 to 7    104\n",
       "7 to 4     92\n",
       "7 to 1     92\n",
       "7 to 2     79\n",
       "2 to 0     77\n",
       "4 to 7     77\n",
       "2 to 7     76\n",
       "0 to 1     72\n",
       "1 to 0     71\n",
       "4 to 1     65\n",
       "0 to 2     65\n",
       "1 to 2     59\n",
       "0 to 3     57\n",
       "1 to 4     57\n",
       "2 to 1     56\n",
       "3 to 7     54\n",
       "4 to 0     54\n",
       "0 to 4     54\n",
       "3 to 0     49\n",
       "2 to 4     48\n",
       "0 to 6     46\n",
       "4 to 2     43\n",
       "7 to 3     40\n",
       "5 to 7     38\n",
       "7 to 6     37\n",
       "3 to 1     36\n",
       "7 to 5     35\n",
       "6 to 0     35\n",
       "4 to 3     34\n",
       "1 to 6     33\n",
       "5 to 1     32\n",
       "1 to 3     32\n",
       "6 to 1     32\n",
       "2 to 3     31\n",
       "6 to 7     31\n",
       "3 to 2     31\n",
       "6 to 4     28\n",
       "6 to 2     27\n",
       "4 to 6     26\n",
       "1 to 5     26\n",
       "5 to 0     26\n",
       "3 to 4     25\n",
       "2 to 6     24\n",
       "5 to 4     20\n",
       "2 to 5     19\n",
       "0 to 5     19\n",
       "5 to 2     19\n",
       "3 to 6     17\n",
       "4 to 5     16\n",
       "3 to 5     15\n",
       "5 to 3     14\n",
       "6 to 3     13\n",
       "6 to 5     11\n",
       "5 to 6      9\n",
       "Name: count, dtype: int64"
      ]
     },
     "execution_count": 32,
     "metadata": {},
     "output_type": "execute_result"
    }
   ],
   "source": [
    "a10 = q10(cust_data)\n",
    "\n",
    "a10"
   ]
  },
  {
   "cell_type": "markdown",
   "metadata": {},
   "source": [
    "### Answer 11"
   ]
  },
  {
   "cell_type": "code",
   "execution_count": 33,
   "metadata": {},
   "outputs": [
    {
     "name": "stderr",
     "output_type": "stream",
     "text": [
      "C:\\Users\\HP\\AppData\\Local\\Temp\\ipykernel_13040\\1699850882.py:20: SettingWithCopyWarning: \n",
      "A value is trying to be set on a copy of a slice from a DataFrame.\n",
      "Try using .loc[row_indexer,col_indexer] = value instead\n",
      "\n",
      "See the caveats in the documentation: https://pandas.pydata.org/pandas-docs/stable/user_guide/indexing.html#returning-a-view-versus-a-copy\n",
      "  anp_buy['Price'] = anp_buy.apply(lambda row: get_prod_price(row['Shelf ID'], row['Item ID']), axis=1)\n"
     ]
    },
    {
     "data": {
      "text/plain": [
       "Shelf ID\n",
       "5    292315000\n",
       "1    175475000\n",
       "2    130884000\n",
       "7     53623900\n",
       "4     32642800\n",
       "6     29129000\n",
       "0     24424700\n",
       "3     22871500\n",
       "Name: Price, dtype: int64"
      ]
     },
     "execution_count": 33,
     "metadata": {},
     "output_type": "execute_result"
    }
   ],
   "source": [
    "a11_1 = q11_1(cust_data, item_data)\n",
    "\n",
    "a11_1"
   ]
  },
  {
   "cell_type": "code",
   "execution_count": 34,
   "metadata": {},
   "outputs": [
    {
     "data": {
      "text/html": [
       "<div>\n",
       "<style scoped>\n",
       "    .dataframe tbody tr th:only-of-type {\n",
       "        vertical-align: middle;\n",
       "    }\n",
       "\n",
       "    .dataframe tbody tr th {\n",
       "        vertical-align: top;\n",
       "    }\n",
       "\n",
       "    .dataframe thead th {\n",
       "        text-align: right;\n",
       "    }\n",
       "</style>\n",
       "<table border=\"1\" class=\"dataframe\">\n",
       "  <thead>\n",
       "    <tr style=\"text-align: right;\">\n",
       "      <th></th>\n",
       "      <th>total_time</th>\n",
       "      <th>interaction</th>\n",
       "      <th>avg</th>\n",
       "    </tr>\n",
       "    <tr>\n",
       "      <th>Shelf ID</th>\n",
       "      <th></th>\n",
       "      <th></th>\n",
       "      <th></th>\n",
       "    </tr>\n",
       "  </thead>\n",
       "  <tbody>\n",
       "    <tr>\n",
       "      <th>5</th>\n",
       "      <td>47380</td>\n",
       "      <td>761</td>\n",
       "      <td>62.260184</td>\n",
       "    </tr>\n",
       "    <tr>\n",
       "      <th>7</th>\n",
       "      <td>201638</td>\n",
       "      <td>3305</td>\n",
       "      <td>61.009985</td>\n",
       "    </tr>\n",
       "    <tr>\n",
       "      <th>3</th>\n",
       "      <td>77919</td>\n",
       "      <td>1302</td>\n",
       "      <td>59.845622</td>\n",
       "    </tr>\n",
       "    <tr>\n",
       "      <th>4</th>\n",
       "      <td>108934</td>\n",
       "      <td>1878</td>\n",
       "      <td>58.005325</td>\n",
       "    </tr>\n",
       "    <tr>\n",
       "      <th>2</th>\n",
       "      <td>106461</td>\n",
       "      <td>1909</td>\n",
       "      <td>55.767941</td>\n",
       "    </tr>\n",
       "    <tr>\n",
       "      <th>0</th>\n",
       "      <td>153458</td>\n",
       "      <td>2789</td>\n",
       "      <td>55.022589</td>\n",
       "    </tr>\n",
       "    <tr>\n",
       "      <th>1</th>\n",
       "      <td>120088</td>\n",
       "      <td>2363</td>\n",
       "      <td>50.820144</td>\n",
       "    </tr>\n",
       "    <tr>\n",
       "      <th>6</th>\n",
       "      <td>42914</td>\n",
       "      <td>1087</td>\n",
       "      <td>39.479301</td>\n",
       "    </tr>\n",
       "  </tbody>\n",
       "</table>\n",
       "</div>"
      ],
      "text/plain": [
       "          total_time  interaction        avg\n",
       "Shelf ID                                    \n",
       "5              47380          761  62.260184\n",
       "7             201638         3305  61.009985\n",
       "3              77919         1302  59.845622\n",
       "4             108934         1878  58.005325\n",
       "2             106461         1909  55.767941\n",
       "0             153458         2789  55.022589\n",
       "1             120088         2363  50.820144\n",
       "6              42914         1087  39.479301"
      ]
     },
     "execution_count": 34,
     "metadata": {},
     "output_type": "execute_result"
    }
   ],
   "source": [
    "a8"
   ]
  },
  {
   "cell_type": "code",
   "execution_count": 71,
   "metadata": {},
   "outputs": [
    {
     "name": "stderr",
     "output_type": "stream",
     "text": [
      "C:\\Users\\HP\\AppData\\Local\\Temp\\ipykernel_13040\\2594595495.py:34: SettingWithCopyWarning: \n",
      "A value is trying to be set on a copy of a slice from a DataFrame.\n",
      "Try using .loc[row_indexer,col_indexer] = value instead\n",
      "\n",
      "See the caveats in the documentation: https://pandas.pydata.org/pandas-docs/stable/user_guide/indexing.html#returning-a-view-versus-a-copy\n",
      "  anp_buy['Name'] = anp_buy.apply(lambda row: get_prod_name(row['Shelf ID'], row['Item ID']), axis=1)\n",
      "C:\\Users\\HP\\AppData\\Local\\Temp\\ipykernel_13040\\2594595495.py:35: SettingWithCopyWarning: \n",
      "A value is trying to be set on a copy of a slice from a DataFrame.\n",
      "Try using .loc[row_indexer,col_indexer] = value instead\n",
      "\n",
      "See the caveats in the documentation: https://pandas.pydata.org/pandas-docs/stable/user_guide/indexing.html#returning-a-view-versus-a-copy\n",
      "  anp_buy['Price'] = anp_buy.apply(lambda row: get_prod_price(row['Shelf ID'], row['Item ID']), axis=1)\n",
      "C:\\Users\\HP\\AppData\\Local\\Temp\\ipykernel_13040\\2594595495.py:34: SettingWithCopyWarning: \n",
      "A value is trying to be set on a copy of a slice from a DataFrame.\n",
      "Try using .loc[row_indexer,col_indexer] = value instead\n",
      "\n",
      "See the caveats in the documentation: https://pandas.pydata.org/pandas-docs/stable/user_guide/indexing.html#returning-a-view-versus-a-copy\n",
      "  anp_buy['Name'] = anp_buy.apply(lambda row: get_prod_name(row['Shelf ID'], row['Item ID']), axis=1)\n",
      "C:\\Users\\HP\\AppData\\Local\\Temp\\ipykernel_13040\\2594595495.py:35: SettingWithCopyWarning: \n",
      "A value is trying to be set on a copy of a slice from a DataFrame.\n",
      "Try using .loc[row_indexer,col_indexer] = value instead\n",
      "\n",
      "See the caveats in the documentation: https://pandas.pydata.org/pandas-docs/stable/user_guide/indexing.html#returning-a-view-versus-a-copy\n",
      "  anp_buy['Price'] = anp_buy.apply(lambda row: get_prod_price(row['Shelf ID'], row['Item ID']), axis=1)\n"
     ]
    }
   ],
   "source": [
    "thuc_pham = q11_2(cust_data, item_data, 3)\n",
    "gia_vi = q11_2(cust_data, item_data, 4)"
   ]
  },
  {
   "cell_type": "code",
   "execution_count": 81,
   "metadata": {},
   "outputs": [
    {
     "data": {
      "text/plain": [
       "Location\n",
       "Cao            2412500\n",
       "Thấp           4696200\n",
       "Trung bình    15762800\n",
       "Name: total, dtype: int64"
      ]
     },
     "execution_count": 81,
     "metadata": {},
     "output_type": "execute_result"
    }
   ],
   "source": [
    "thuc_pham.groupby('Location')['total'].sum()"
   ]
  },
  {
   "cell_type": "code",
   "execution_count": 82,
   "metadata": {},
   "outputs": [
    {
     "data": {
      "text/plain": [
       "Location\n",
       "Cao            3\n",
       "Thấp           4\n",
       "Trung bình    18\n",
       "Name: Name, dtype: int64"
      ]
     },
     "execution_count": 82,
     "metadata": {},
     "output_type": "execute_result"
    }
   ],
   "source": [
    "thuc_pham.groupby('Location')['Name'].count()"
   ]
  },
  {
   "cell_type": "code",
   "execution_count": 95,
   "metadata": {},
   "outputs": [
    {
     "data": {
      "text/html": [
       "<div>\n",
       "<style scoped>\n",
       "    .dataframe tbody tr th:only-of-type {\n",
       "        vertical-align: middle;\n",
       "    }\n",
       "\n",
       "    .dataframe tbody tr th {\n",
       "        vertical-align: top;\n",
       "    }\n",
       "\n",
       "    .dataframe thead th {\n",
       "        text-align: right;\n",
       "    }\n",
       "</style>\n",
       "<table border=\"1\" class=\"dataframe\">\n",
       "  <thead>\n",
       "    <tr style=\"text-align: right;\">\n",
       "      <th></th>\n",
       "      <th>Name</th>\n",
       "      <th>total</th>\n",
       "      <th>Location</th>\n",
       "    </tr>\n",
       "  </thead>\n",
       "  <tbody>\n",
       "    <tr>\n",
       "      <th>22</th>\n",
       "      <td>Vodka Hà Nội</td>\n",
       "      <td>4920000</td>\n",
       "      <td>Trung bình</td>\n",
       "    </tr>\n",
       "    <tr>\n",
       "      <th>21</th>\n",
       "      <td>Vodka Cá sấu</td>\n",
       "      <td>1820000</td>\n",
       "      <td>Trung bình</td>\n",
       "    </tr>\n",
       "    <tr>\n",
       "      <th>11</th>\n",
       "      <td>Mỳ Omachi</td>\n",
       "      <td>1584000</td>\n",
       "      <td>Trung bình</td>\n",
       "    </tr>\n",
       "    <tr>\n",
       "      <th>20</th>\n",
       "      <td>Vang đỏ đà lạt</td>\n",
       "      <td>1560000</td>\n",
       "      <td>Trung bình</td>\n",
       "    </tr>\n",
       "    <tr>\n",
       "      <th>1</th>\n",
       "      <td>Bia Sài Gòn Special</td>\n",
       "      <td>848000</td>\n",
       "      <td>Trung bình</td>\n",
       "    </tr>\n",
       "    <tr>\n",
       "      <th>16</th>\n",
       "      <td>Phở khô Chinsu</td>\n",
       "      <td>805000</td>\n",
       "      <td>Trung bình</td>\n",
       "    </tr>\n",
       "    <tr>\n",
       "      <th>19</th>\n",
       "      <td>Strongbow dâu đen</td>\n",
       "      <td>691200</td>\n",
       "      <td>Trung bình</td>\n",
       "    </tr>\n",
       "    <tr>\n",
       "      <th>2</th>\n",
       "      <td>Bánh đa Vifon</td>\n",
       "      <td>690000</td>\n",
       "      <td>Trung bình</td>\n",
       "    </tr>\n",
       "    <tr>\n",
       "      <th>8</th>\n",
       "      <td>Miếng dong Miến vương</td>\n",
       "      <td>648000</td>\n",
       "      <td>Trung bình</td>\n",
       "    </tr>\n",
       "    <tr>\n",
       "      <th>14</th>\n",
       "      <td>Nui Safoco</td>\n",
       "      <td>490000</td>\n",
       "      <td>Trung bình</td>\n",
       "    </tr>\n",
       "    <tr>\n",
       "      <th>12</th>\n",
       "      <td>Mỳ trứng Safoco</td>\n",
       "      <td>459000</td>\n",
       "      <td>Trung bình</td>\n",
       "    </tr>\n",
       "    <tr>\n",
       "      <th>4</th>\n",
       "      <td>Fanta</td>\n",
       "      <td>339900</td>\n",
       "      <td>Trung bình</td>\n",
       "    </tr>\n",
       "    <tr>\n",
       "      <th>0</th>\n",
       "      <td>Bia 333</td>\n",
       "      <td>304500</td>\n",
       "      <td>Trung bình</td>\n",
       "    </tr>\n",
       "    <tr>\n",
       "      <th>3</th>\n",
       "      <td>Coca Cola</td>\n",
       "      <td>185400</td>\n",
       "      <td>Trung bình</td>\n",
       "    </tr>\n",
       "    <tr>\n",
       "      <th>18</th>\n",
       "      <td>Sprite</td>\n",
       "      <td>144200</td>\n",
       "      <td>Trung bình</td>\n",
       "    </tr>\n",
       "    <tr>\n",
       "      <th>17</th>\n",
       "      <td>Phở vifon</td>\n",
       "      <td>108000</td>\n",
       "      <td>Trung bình</td>\n",
       "    </tr>\n",
       "    <tr>\n",
       "      <th>9</th>\n",
       "      <td>Mỳ Cung Ðình</td>\n",
       "      <td>104000</td>\n",
       "      <td>Trung bình</td>\n",
       "    </tr>\n",
       "    <tr>\n",
       "      <th>10</th>\n",
       "      <td>Mỳ Hảo Hảo</td>\n",
       "      <td>61600</td>\n",
       "      <td>Trung bình</td>\n",
       "    </tr>\n",
       "    <tr>\n",
       "      <th>5</th>\n",
       "      <td>Gạo ST25 Neptune</td>\n",
       "      <td>4309000</td>\n",
       "      <td>Thấp</td>\n",
       "    </tr>\n",
       "    <tr>\n",
       "      <th>23</th>\n",
       "      <td>Ðậu xanh</td>\n",
       "      <td>192000</td>\n",
       "      <td>Thấp</td>\n",
       "    </tr>\n",
       "    <tr>\n",
       "      <th>24</th>\n",
       "      <td>Ðậu đỏ</td>\n",
       "      <td>112000</td>\n",
       "      <td>Thấp</td>\n",
       "    </tr>\n",
       "    <tr>\n",
       "      <th>15</th>\n",
       "      <td>Phồng tôm Bích chi</td>\n",
       "      <td>83200</td>\n",
       "      <td>Thấp</td>\n",
       "    </tr>\n",
       "    <tr>\n",
       "      <th>7</th>\n",
       "      <td>Khô gà Thảo Nguyên Phát</td>\n",
       "      <td>1050000</td>\n",
       "      <td>Cao</td>\n",
       "    </tr>\n",
       "    <tr>\n",
       "      <th>13</th>\n",
       "      <td>Ngũ cốc VinaCafe</td>\n",
       "      <td>742500</td>\n",
       "      <td>Cao</td>\n",
       "    </tr>\n",
       "    <tr>\n",
       "      <th>6</th>\n",
       "      <td>Khô bò Hải Châu</td>\n",
       "      <td>620000</td>\n",
       "      <td>Cao</td>\n",
       "    </tr>\n",
       "  </tbody>\n",
       "</table>\n",
       "</div>"
      ],
      "text/plain": [
       "                       Name    total    Location\n",
       "22             Vodka Hà Nội  4920000  Trung bình\n",
       "21             Vodka Cá sấu  1820000  Trung bình\n",
       "11                Mỳ Omachi  1584000  Trung bình\n",
       "20           Vang đỏ đà lạt  1560000  Trung bình\n",
       "1       Bia Sài Gòn Special   848000  Trung bình\n",
       "16           Phở khô Chinsu   805000  Trung bình\n",
       "19        Strongbow dâu đen   691200  Trung bình\n",
       "2             Bánh đa Vifon   690000  Trung bình\n",
       "8     Miếng dong Miến vương   648000  Trung bình\n",
       "14               Nui Safoco   490000  Trung bình\n",
       "12          Mỳ trứng Safoco   459000  Trung bình\n",
       "4                     Fanta   339900  Trung bình\n",
       "0                   Bia 333   304500  Trung bình\n",
       "3                 Coca Cola   185400  Trung bình\n",
       "18                   Sprite   144200  Trung bình\n",
       "17                Phở vifon   108000  Trung bình\n",
       "9              Mỳ Cung Ðình   104000  Trung bình\n",
       "10               Mỳ Hảo Hảo    61600  Trung bình\n",
       "5          Gạo ST25 Neptune  4309000        Thấp\n",
       "23                 Ðậu xanh   192000        Thấp\n",
       "24                   Ðậu đỏ   112000        Thấp\n",
       "15       Phồng tôm Bích chi    83200        Thấp\n",
       "7   Khô gà Thảo Nguyên Phát  1050000         Cao\n",
       "13         Ngũ cốc VinaCafe   742500         Cao\n",
       "6           Khô bò Hải Châu   620000         Cao"
      ]
     },
     "execution_count": 95,
     "metadata": {},
     "output_type": "execute_result"
    }
   ],
   "source": [
    "thuc_pham.sort_values(by=['Location', 'total'], ascending=False)"
   ]
  },
  {
   "cell_type": "code",
   "execution_count": 80,
   "metadata": {},
   "outputs": [
    {
     "data": {
      "text/plain": [
       "Location\n",
       "Cao           24342000\n",
       "Thấp           4176200\n",
       "Trung bình     4124600\n",
       "Name: total, dtype: int64"
      ]
     },
     "execution_count": 80,
     "metadata": {},
     "output_type": "execute_result"
    }
   ],
   "source": [
    "gia_vi.groupby('Location')['total'].sum()"
   ]
  },
  {
   "cell_type": "code",
   "execution_count": 84,
   "metadata": {},
   "outputs": [
    {
     "data": {
      "text/plain": [
       "Location\n",
       "Cao           7\n",
       "Thấp          5\n",
       "Trung bình    7\n",
       "Name: Name, dtype: int64"
      ]
     },
     "execution_count": 84,
     "metadata": {},
     "output_type": "execute_result"
    }
   ],
   "source": [
    "gia_vi.groupby('Location')['Name'].count()"
   ]
  },
  {
   "cell_type": "code",
   "execution_count": 94,
   "metadata": {},
   "outputs": [
    {
     "data": {
      "text/html": [
       "<div>\n",
       "<style scoped>\n",
       "    .dataframe tbody tr th:only-of-type {\n",
       "        vertical-align: middle;\n",
       "    }\n",
       "\n",
       "    .dataframe tbody tr th {\n",
       "        vertical-align: top;\n",
       "    }\n",
       "\n",
       "    .dataframe thead th {\n",
       "        text-align: right;\n",
       "    }\n",
       "</style>\n",
       "<table border=\"1\" class=\"dataframe\">\n",
       "  <thead>\n",
       "    <tr style=\"text-align: right;\">\n",
       "      <th></th>\n",
       "      <th>Name</th>\n",
       "      <th>total</th>\n",
       "      <th>Location</th>\n",
       "    </tr>\n",
       "  </thead>\n",
       "  <tbody>\n",
       "    <tr>\n",
       "      <th>12</th>\n",
       "      <td>Nước mắm hạnh phúc</td>\n",
       "      <td>9280000</td>\n",
       "      <td>Cao</td>\n",
       "    </tr>\n",
       "    <tr>\n",
       "      <th>11</th>\n",
       "      <td>Nước mắm cá cơm Thuận Phát</td>\n",
       "      <td>4425000</td>\n",
       "      <td>Cao</td>\n",
       "    </tr>\n",
       "    <tr>\n",
       "      <th>8</th>\n",
       "      <td>Nước mắm Nam ngư</td>\n",
       "      <td>4350500</td>\n",
       "      <td>Cao</td>\n",
       "    </tr>\n",
       "    <tr>\n",
       "      <th>4</th>\n",
       "      <td>Dầu ăn Tường An</td>\n",
       "      <td>1999500</td>\n",
       "      <td>Cao</td>\n",
       "    </tr>\n",
       "    <tr>\n",
       "      <th>3</th>\n",
       "      <td>Dầu ăn Simply</td>\n",
       "      <td>1896000</td>\n",
       "      <td>Cao</td>\n",
       "    </tr>\n",
       "    <tr>\n",
       "      <th>7</th>\n",
       "      <td>Nước mắm Chinsu</td>\n",
       "      <td>1404000</td>\n",
       "      <td>Cao</td>\n",
       "    </tr>\n",
       "    <tr>\n",
       "      <th>18</th>\n",
       "      <td>Ðường phèn Biên Hoà</td>\n",
       "      <td>1278000</td>\n",
       "      <td>Thấp</td>\n",
       "    </tr>\n",
       "    <tr>\n",
       "      <th>5</th>\n",
       "      <td>Mỳ chính Ajinomoto</td>\n",
       "      <td>1008000</td>\n",
       "      <td>Thấp</td>\n",
       "    </tr>\n",
       "    <tr>\n",
       "      <th>2</th>\n",
       "      <td>Dầu ăn Meizan</td>\n",
       "      <td>987000</td>\n",
       "      <td>Cao</td>\n",
       "    </tr>\n",
       "    <tr>\n",
       "      <th>1</th>\n",
       "      <td>Dầu hào Maggi</td>\n",
       "      <td>969000</td>\n",
       "      <td>Trung bình</td>\n",
       "    </tr>\n",
       "    <tr>\n",
       "      <th>17</th>\n",
       "      <td>Ðường kính Toàn Phát</td>\n",
       "      <td>891000</td>\n",
       "      <td>Thấp</td>\n",
       "    </tr>\n",
       "    <tr>\n",
       "      <th>10</th>\n",
       "      <td>Nước mắm cho bé Thuyền xưa</td>\n",
       "      <td>840000</td>\n",
       "      <td>Trung bình</td>\n",
       "    </tr>\n",
       "    <tr>\n",
       "      <th>9</th>\n",
       "      <td>Nước mắm cho bé Barona</td>\n",
       "      <td>715000</td>\n",
       "      <td>Trung bình</td>\n",
       "    </tr>\n",
       "    <tr>\n",
       "      <th>6</th>\n",
       "      <td>Mỳ chính Miwon</td>\n",
       "      <td>680000</td>\n",
       "      <td>Thấp</td>\n",
       "    </tr>\n",
       "    <tr>\n",
       "      <th>13</th>\n",
       "      <td>Tương ớt Chinsu</td>\n",
       "      <td>514600</td>\n",
       "      <td>Trung bình</td>\n",
       "    </tr>\n",
       "    <tr>\n",
       "      <th>15</th>\n",
       "      <td>Xì dầu Chinsu</td>\n",
       "      <td>456000</td>\n",
       "      <td>Trung bình</td>\n",
       "    </tr>\n",
       "    <tr>\n",
       "      <th>14</th>\n",
       "      <td>Tương ớt Cholimex</td>\n",
       "      <td>401200</td>\n",
       "      <td>Trung bình</td>\n",
       "    </tr>\n",
       "    <tr>\n",
       "      <th>0</th>\n",
       "      <td>Bột canh Vifon</td>\n",
       "      <td>319200</td>\n",
       "      <td>Thấp</td>\n",
       "    </tr>\n",
       "    <tr>\n",
       "      <th>16</th>\n",
       "      <td>Xì dầu Tam Thái tử</td>\n",
       "      <td>228800</td>\n",
       "      <td>Trung bình</td>\n",
       "    </tr>\n",
       "  </tbody>\n",
       "</table>\n",
       "</div>"
      ],
      "text/plain": [
       "                          Name    total    Location\n",
       "12          Nước mắm hạnh phúc  9280000         Cao\n",
       "11  Nước mắm cá cơm Thuận Phát  4425000         Cao\n",
       "8             Nước mắm Nam ngư  4350500         Cao\n",
       "4              Dầu ăn Tường An  1999500         Cao\n",
       "3                Dầu ăn Simply  1896000         Cao\n",
       "7              Nước mắm Chinsu  1404000         Cao\n",
       "18         Ðường phèn Biên Hoà  1278000        Thấp\n",
       "5           Mỳ chính Ajinomoto  1008000        Thấp\n",
       "2                Dầu ăn Meizan   987000         Cao\n",
       "1                Dầu hào Maggi   969000  Trung bình\n",
       "17        Ðường kính Toàn Phát   891000        Thấp\n",
       "10  Nước mắm cho bé Thuyền xưa   840000  Trung bình\n",
       "9       Nước mắm cho bé Barona   715000  Trung bình\n",
       "6               Mỳ chính Miwon   680000        Thấp\n",
       "13             Tương ớt Chinsu   514600  Trung bình\n",
       "15               Xì dầu Chinsu   456000  Trung bình\n",
       "14           Tương ớt Cholimex   401200  Trung bình\n",
       "0               Bột canh Vifon   319200        Thấp\n",
       "16          Xì dầu Tam Thái tử   228800  Trung bình"
      ]
     },
     "execution_count": 94,
     "metadata": {},
     "output_type": "execute_result"
    }
   ],
   "source": [
    "gia_vi.sort_values(by=['total'], ascending=False)"
   ]
  },
  {
   "cell_type": "markdown",
   "metadata": {},
   "source": [
    "### Answer 12"
   ]
  },
  {
   "cell_type": "code",
   "execution_count": null,
   "metadata": {},
   "outputs": [],
   "source": [
    "bc_banh_keo = q12_1(cust_data, item_data, 0)\n",
    "bc_hmp = q12_1(cust_data, item_data, 1)\n",
    "bc_sua = q12_1(cust_data, item_data, 2)\n",
    "bc_thuc_pham = q12_1(cust_data, item_data, 3)\n",
    "bc_gia_vi = q12_1(cust_data, item_data, 4)\n",
    "bc_gia_dung = q12_1(cust_data, item_data, 5)\n",
    "bc_sdc = q12_1(cust_data, item_data, 6)\n",
    "bc_dong_lanh = q12_1(cust_data, item_data, 7)"
   ]
  },
  {
   "cell_type": "code",
   "execution_count": null,
   "metadata": {},
   "outputs": [],
   "source": [
    "bc_all = q12_2(cust_data, item_data)"
   ]
  },
  {
   "cell_type": "code",
   "execution_count": 121,
   "metadata": {},
   "outputs": [
    {
     "data": {
      "text/plain": [
       "(1211, 0, 1687, 3022)"
      ]
     },
     "execution_count": 121,
     "metadata": {},
     "output_type": "execute_result"
    }
   ],
   "source": [
    "bc_all"
   ]
  },
  {
   "cell_type": "code",
   "execution_count": 117,
   "metadata": {},
   "outputs": [
    {
     "data": {
      "text/plain": [
       "(171, 0, 407, 391)"
      ]
     },
     "execution_count": 117,
     "metadata": {},
     "output_type": "execute_result"
    }
   ],
   "source": [
    "bc_banh_keo"
   ]
  },
  {
   "cell_type": "code",
   "execution_count": 118,
   "metadata": {},
   "outputs": [
    {
     "data": {
      "text/plain": [
       "(375, 0, 288, 495)"
      ]
     },
     "execution_count": 118,
     "metadata": {},
     "output_type": "execute_result"
    }
   ],
   "source": [
    "bc_hmp"
   ]
  },
  {
   "cell_type": "code",
   "execution_count": 122,
   "metadata": {},
   "outputs": [
    {
     "data": {
      "text/plain": [
       "(167, 0, 62, 545)"
      ]
     },
     "execution_count": 122,
     "metadata": {},
     "output_type": "execute_result"
    }
   ],
   "source": [
    "bc_sua"
   ]
  },
  {
   "cell_type": "code",
   "execution_count": 123,
   "metadata": {},
   "outputs": [
    {
     "data": {
      "text/plain": [
       "(67, 0, 214, 241)"
      ]
     },
     "execution_count": 123,
     "metadata": {},
     "output_type": "execute_result"
    }
   ],
   "source": [
    "bc_thuc_pham"
   ]
  },
  {
   "cell_type": "code",
   "execution_count": 124,
   "metadata": {},
   "outputs": [
    {
     "data": {
      "text/plain": [
       "(75, 0, 463, 160)"
      ]
     },
     "execution_count": 124,
     "metadata": {},
     "output_type": "execute_result"
    }
   ],
   "source": [
    "bc_gia_vi"
   ]
  },
  {
   "cell_type": "code",
   "execution_count": 125,
   "metadata": {},
   "outputs": [
    {
     "data": {
      "text/plain": [
       "(187, 0, 184, 0)"
      ]
     },
     "execution_count": 125,
     "metadata": {},
     "output_type": "execute_result"
    }
   ],
   "source": [
    "bc_gia_dung"
   ]
  },
  {
   "cell_type": "code",
   "execution_count": 126,
   "metadata": {},
   "outputs": [
    {
     "data": {
      "text/plain": [
       "(0, 0, 0, 282)"
      ]
     },
     "execution_count": 126,
     "metadata": {},
     "output_type": "execute_result"
    }
   ],
   "source": [
    "bc_sdc"
   ]
  },
  {
   "cell_type": "code",
   "execution_count": 127,
   "metadata": {},
   "outputs": [
    {
     "data": {
      "text/plain": [
       "(169, 0, 69, 908)"
      ]
     },
     "execution_count": 127,
     "metadata": {},
     "output_type": "execute_result"
    }
   ],
   "source": [
    "bc_dong_lanh"
   ]
  },
  {
   "cell_type": "markdown",
   "metadata": {},
   "source": [
    "## **IMPORTANT NOTE**"
   ]
  },
  {
   "cell_type": "markdown",
   "metadata": {},
   "source": [
    "### **0. Về dự án**"
   ]
  },
  {
   "cell_type": "markdown",
   "metadata": {},
   "source": [
    "Cảm ơn cuộc thi DSTC 2024 đã mang lại cho mình một cơ hội tốt để áp dụng các kiến thức đã học vào một trường hợp cụ thể trong thực tế!\n",
    "\n",
    "Trên đây là phần trình bày về cách thức xử lý dữ liệu để đi đến đáp án cho từng câu hỏi trong đề bài!\n",
    "\n",
    "Vì yêu cầu là chỉ gửi về file xử lý dữ liệu dưới dạng .zip nên mình sẽ không đính kèm các file dữ liệu mà Ban tổ chức (BTC) đã gửi vào đây! Nếu có nhu cầu kiểm thử lại quá trình này, các bạn có thể truy cập vào repository và tải về thông qua đường dẫn: https://github.com/duy-nq/FTU-Mock-Test\n"
   ]
  },
  {
   "cell_type": "markdown",
   "metadata": {},
   "source": [
    "### **1. Về logic mua hàng**"
   ]
  },
  {
   "cell_type": "markdown",
   "metadata": {},
   "source": [
    "Sau khi quan sát một vài dòng dữ liệu trong bộ dataset liên quan đến hành vi mua sắm của khách hàng mình nhận ra được một số điều khá \"vô lý\" trong logic. Ở dòng đầu tiên, mình thấy người dùng này không hề *đưa sản phẩm vào giỏ hàng* hay *bỏ sản phẩm ra khỏi giỏ*... Tuy nhiên, họ lại *đưa sản phẩm vào giỏ lần 2 sau khi đã lấy ra*!?\n",
    "\n",
    "Do vậy, mình quyết định sử dụng 2 mệnh đề (cần thỏa mãn 1 trong 2) sau để tạo sự thống nhất trong việc xác định việc mua hàng:\n",
    "\n",
    "- 1. Putting item into bag = TRUE **và** Taking item out of bag = FALSE\n",
    "- 2. Putting item into bag = TRUE **và** Taking item out of bag = TRUE **và** Putting item into bag in the 2nd time = TRUE\n",
    "\n",
    "**Ngoài ra**, các khách hàng không có đầy đủ 03 thông tin trên sẽ được loại khỏi dataset vì không thể xác định rõ việc mua hàng của họ.\n",
    "\n",
    "Xác định đúng hành vi mua hàng của khách hàng cực kỳ quan trọng trong vì đây là phần dữ liệu dùng để trả lời cho khá nhiều câu hỏi nên mình rằng mong BTC sẽ không chỉ xem xét kết quả, mà còn nên đánh giá dựa trên logic của thí sinh!"
   ]
  },
  {
   "cell_type": "markdown",
   "metadata": {},
   "source": [
    "### **2. Về việc sắp xếp lại các mặt hàng (câu số 11)**"
   ]
  },
  {
   "cell_type": "markdown",
   "metadata": {},
   "source": [
    "Đầu tiên, dựa vào hai dataset liên quan đến **kệ hàng** và **sản phẩm** thì tất cả các mặt hàng đều được nằm đúng ở các kệ hàng theo đúng phân loại của mình!\n",
    "\n",
    "Các kệ hàng đều có chiều cao tối đa là 180 cm nên việc phân tích có thể liên quan đến vị trí cao thấp của các mặt hàng trên kệ.\n",
    "\n",
    "Một số thông tin cần quan tâm đến:\n",
    "- Doanh thu của các quầy hàng (1)\n",
    "- Sức mua của các quầy hàng (2)\n",
    "- Thời lượng trung bình quan tâm đến sản phẩm, trên số lượt tương tác (3)\n",
    "- Thông tin chi tiết về quầy hàng cụ thể (4)\n",
    "\n",
    "Các quầy hàng có doanh thu thấp nhất:\n",
    "| Shefl ID | Mô tả | Doanh thu |\n",
    "| --- | --- | --- |\n",
    "| 4 | Quầy gia vị | 32,642,800 |\n",
    "| 6 | Quầy sách & đồ chơi | 29,129,000 |\n",
    "| 0 | Quầy bánh kẹo | 24,424,700 |\n",
    "| 3 | Quầy thực phẩm | 22,871,500 |\n",
    "\n",
    "Các quầy hàng có sức mua thấp nhất:\n",
    "| Shefl ID | Mô tả | Số lượng sản phẩm đã bán |\n",
    "| --- | --- | --- |\n",
    "| 4 | Quầy gia vị | 698 |\n",
    "| 3 | Quầy thực phẩm | 522 |\n",
    "| 5 | Quầy gia dụng | 371 |\n",
    "| 6 | Quầy sách & đồ chơi | 282 |\n",
    "\n",
    "**Suy luận**: Quầy gia dụng tuy có số lượt sản phẩm bán ra ít nhưng hợp lý bởi tần suất sử dụng thấp, đồng thời có doanh thu cao nhất. Còn quầy bánh kẹo, tuy có doanh thu chưa cao nhưng số lượng sản phẩm bán được lại là 969, nằm top 3 quầy hàng bán chạy (dẫn chứng câu 9). Do vậy, cần quan tâm hơn đến các quầy 3, 4 và 6.\n",
    "\n",
    "Thời lượng quan tâm trung bình đến các quầy hàng 3, 4 và 6:\n",
    "| Shefl ID | Mô tả | Thời lượng quan tâm trung bình (s) |\n",
    "| --- | --- | --- |\n",
    "| 3 | Quầy thực phẩm | 59.8 |\n",
    "| 4 | Quầy gia vị | 58.0 |\n",
    "| 6 | Quầy sách & đồ chơi | 39.5 |\n",
    "\n",
    "**Suy luận**: Gia vị cũng như thực phẩm trên thực tế có tần suất sử dụng và có thể có mức độ quan tâm cao hơn hẳn các mặt hàng còn lại (đa phần khách đến cửa hàng đều nằm trong lứa tuổi trung và cao niên). Sách và đồ chơi nếu xét chung trên các danh mục mặt hàng hiện có thì tỏ ra quá khác biệt, khó có khả năng thu hút tiêu dùng so với khi được bày bán tại các nhà sách. Như vậy, một lần nữa chúng ta sẽ tập trung hơn vào hai quầy hàng số 3 và 4.\n",
    "\n",
    "Tỷ lệ mua hàng trên số lượt tương tác (*số sản phẩm đã bán* (câu 9) chia cho *số lượt tương tác* (câu 8)):\n",
    "| Shefl ID | Mô tả | Tỷ lệ |\n",
    "| --- | --- | --- |\n",
    "| **3** | **Quầy thực phẩm** | **40%** |\n",
    "| **4** | **Quầy gia vị** | **37%** |\n",
    "| 6 | Quầy sách & đồ chơi | 26% |\n",
    "\n",
    "**Suy luận**: Tất cả các kệ hàng trong chi nhánh HomeMart này đều có chiều cao là 1.8 mét, lại được chia làm 03 loại vị trí đặt hàng là: *Thấp*, *Trung bình* và *Cao*. Chiều cao trung bình của người trưởng thành (trên 18 tuổi) tại Việt Nam là vào khoảng 1.53 đến 1.64 mét (số liệu thống kê năm 2010). Như vậy, vị trí đặt hàng *cao*, tương ứng với 1.2 mét trở lên sẽ là tối ưu nhất cho việc quan sát và lựa chọn, kế đến là các vị trí *trung bình* và *thấp*! Việc làm này một phần nào đó có thể cải thiện tỷ lệ mua và giúp tăng doanh thu cho quầy hàng.\n",
    "\n",
    "Doanh thu và tình trạng hàng hóa tính theo vị trí của quầy **thực phẩm** (xem phần Answer 11):\n",
    "| Vị trí | Số lượng trên kệ | Doanh thu |\n",
    "|---|---|---|\n",
    "| Trung bình | 18 | 15,762,800 |\n",
    "| Thấp | 4 | 4,696,200 |\n",
    "| Cao | 3 | 2,412,500 |\n",
    "\n",
    "**Giải pháp**: Dễ thấy doanh thu cao nhất đến từ các sản phẩm ở vị trí *trung bình*; di chuyển thử nghiệm các sản phẩm dạng sợi ăn liền như mì tôm, hay nui (trọng lượng thấp) lên trên *cao*; và đưa các sản phẩm hiện đang ở trên *cao* xuống các vị trí thấp hơn. Các sản phẩm thường được đựng trong các chai, lọ thủy tinh như rượu, bia, nước ngọt thì cần có đánh giá để xem xét độ an toàn trước khi chuyển lên vị trí cao nhất.\n",
    "\n",
    "Doanh thu và tình trạng hàng hóa tính theo vị trí của quầy **gia vị** (xem phần Answer 11):\n",
    "| Vị trí | Số lượng trên kệ | Doanh thu |\n",
    "|---|---|---|\n",
    "| Cao | 7 | 24,342,000 |\n",
    "| Thấp | 5 | 4,176,200 |\n",
    "| Trung bình | 7 | 4,124,600 |\n",
    "\n",
    "**Giải pháp**: Trong 12 sản phẩm bán được nhiều nhất của quầy hàng này, ngoài các sản phẩm được đặt sẵn ở vị trí *cao* thì có đến 03 sản phẩm hiện đang được đặt ở vị trí *thấp*, đó là các sản phẩm đường và mì chính. Với trọng lượng không quá lớn của mình, có thể dễ dàng chuyển lên vị trí cao nhất để tối ưu hơn nữa doanh thu cho hai loại mặt hàng này!"
   ]
  },
  {
   "cell_type": "markdown",
   "metadata": {},
   "source": [
    "### **3. Về việc phân tích chiến lược quảng cáo, khuyến mại**"
   ]
  },
  {
   "cell_type": "markdown",
   "metadata": {},
   "source": [
    "Sau khi phân tích (Answer 12) có thể nhận ra chiến dịch marketing không được áp dụng một mình mà luôn được áp dụng chung với sale. Do đó sau đây chỉ xét đến 03 loại: Áp dụng cả hai chiến lược, áp dụng sale và không áp dụng chiến lược nào."
   ]
  },
  {
   "cell_type": "markdown",
   "metadata": {},
   "source": [
    "Số lượng sản phẩm bán ra tại quầy bánh kẹo:\n",
    "| Chiến lược áp dụng | Số lượng hàng bán được |\n",
    "|---|---|\n",
    "| Cả hai | 171 |\n",
    "| Marketing | 0 |\n",
    "| Khuyến mãi | 407 |\n",
    "| Không áp dụng | 391 |\n",
    "\n",
    "Số lượng sản phẩm bán ra tại quầy hóa mỹ phẩm:\n",
    "| Chiến lược áp dụng | Số lượng hàng bán được |\n",
    "|---|---|\n",
    "| Cả hai | 375 |\n",
    "| Marketing | 0 |\n",
    "| Khuyến mãi | 288 |\n",
    "| Không áp dụng | 495 |\n",
    "\n",
    "Số lượng sản phẩm bán ra tại quầy sữa:\n",
    "| Chiến lược áp dụng | Số lượng hàng bán được |\n",
    "|---|---|\n",
    "| Cả hai | 167 |\n",
    "| Marketing | 0 |\n",
    "| Khuyến mãi | 62 |\n",
    "| Không áp dụng | 545 |\n",
    "\n",
    "Số lượng sản phẩm bán ra tại quầy thực phẩm:\n",
    "| Chiến lược áp dụng | Số lượng hàng bán được |\n",
    "|---|---|\n",
    "| Cả hai | 67 |\n",
    "| Marketing | 0 |\n",
    "| Khuyến mãi | 62 |\n",
    "| Không áp dụng | 545 |\n",
    "\n",
    "Số lượng sản phẩm bán ra tại quầy gia vị:\n",
    "| Chiến lược áp dụng | Số lượng hàng bán được |\n",
    "|---|---|\n",
    "| Cả hai | 75 |\n",
    "| Marketing | 0 |\n",
    "| Khuyến mãi | 463 |\n",
    "| Không áp dụng | 160 |\n",
    "\n",
    "Số lượng sản phẩm bán ra tại quầy gia dụng:\n",
    "| Chiến lược áp dụng | Số lượng hàng bán được |\n",
    "|---|---|\n",
    "| Cả hai | 187 |\n",
    "| Marketing | 0 |\n",
    "| Khuyến mãi | 104 |\n",
    "| Không áp dụng | 0 |\n",
    "\n",
    "Số lượng sản phẩm bán ra tại quầy sách và đồ chơi:\n",
    "| Chiến lược áp dụng | Số lượng hàng bán được |\n",
    "|---|---|\n",
    "| Cả hai | 0 |\n",
    "| Marketing | 0 |\n",
    "| Khuyến mãi | 0 |\n",
    "| Không áp dụng | 282 |\n",
    "\n",
    "Số lượng sản phẩm bán ra tại quầy đông lạnh:\n",
    "| Chiến lược áp dụng | Số lượng hàng bán được |\n",
    "|---|---|\n",
    "| Cả hai | 169 |\n",
    "| Marketing | 0 |\n",
    "| Khuyến mãi | 69 |\n",
    "| Không áp dụng | 908 |"
   ]
  },
  {
   "cell_type": "markdown",
   "metadata": {},
   "source": [
    "### **4. Về hạn sử dụng của các mặt hàng**"
   ]
  },
  {
   "cell_type": "markdown",
   "metadata": {},
   "source": [
    "Trong dataset về hành vi mua hàng, thời gian theo như mình phân tích được thì các dữ liệu được ghi nhận từ ngày 01/07/2024 đến 08/07/2024 (tức 8 ngày).\n",
    "\n",
    "Tuy nhiên, bánh Custard - một sản phẩm bán khá chạy xét trên nhiều lứa tuổi, đứng đầu về doanh số khi xét trên các chiến lược quảng cáo hay khuyến mãi... lại có hạn sử dụng kết thúc vào ngày 13/04/2024, tức là cách thời điểm ghi nhận dữ liệu mua sắm gần 3 tháng. \n",
    "\n",
    "Tương tự cho một vài sản phẩm khác thuộc quầy hóa mỹ phẩm hay quầy sữa, với thời gian hết hạn tính đến thời điểm đang xét có lúc lên đến 7 tháng (Sữa bột Anmum Matern).\n",
    "\n",
    "Bản thân mình cũng dự định sử dụng các thông tin này để phân tích cho việc sắp xếp lại các mặt hàng, nhưng sẽ không thể sử dụng vì có vẻ như phần dữ liệu này chưa đáng tin cậy cho lắm..."
   ]
  }
 ],
 "metadata": {
  "kernelspec": {
   "display_name": "base",
   "language": "python",
   "name": "python3"
  },
  "language_info": {
   "codemirror_mode": {
    "name": "ipython",
    "version": 3
   },
   "file_extension": ".py",
   "mimetype": "text/x-python",
   "name": "python",
   "nbconvert_exporter": "python",
   "pygments_lexer": "ipython3",
   "version": "3.11.5"
  }
 },
 "nbformat": 4,
 "nbformat_minor": 2
}
