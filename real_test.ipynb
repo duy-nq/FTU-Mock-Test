{
 "cells": [
  {
   "cell_type": "markdown",
   "metadata": {},
   "source": [
    "## **IMPORT LIBRARIES**"
   ]
  },
  {
   "cell_type": "code",
   "execution_count": 104,
   "metadata": {},
   "outputs": [],
   "source": [
    "import pandas as pd"
   ]
  },
  {
   "cell_type": "markdown",
   "metadata": {},
   "source": [
    "## **DEFAULT FUNCTIONS**"
   ]
  },
  {
   "cell_type": "code",
   "execution_count": 105,
   "metadata": {},
   "outputs": [],
   "source": [
    "def read_csv(file_name: str) -> pd.DataFrame:\n",
    "    path = './test_data/' + file_name + '.csv'\n",
    "\n",
    "    data = pd.read_csv(path, sep=',')\n",
    "\n",
    "    return data"
   ]
  },
  {
   "cell_type": "code",
   "execution_count": 106,
   "metadata": {},
   "outputs": [],
   "source": [
    "def norm_money(money: str):\n",
    "    return int(money.replace(' ₫', '').replace(',', ''))"
   ]
  },
  {
   "cell_type": "code",
   "execution_count": 180,
   "metadata": {},
   "outputs": [],
   "source": [
    "def norm_route(cr: list[int]):\n",
    "    route = [-1]\n",
    "\n",
    "    for r in cr:\n",
    "        if route[len(route)-1] == r:\n",
    "            continue\n",
    "        else:\n",
    "            route.append(r)\n",
    "\n",
    "    return route[1:]"
   ]
  },
  {
   "cell_type": "code",
   "execution_count": 172,
   "metadata": {},
   "outputs": [],
   "source": [
    "def create_route(cr: list[int]):    \n",
    "    str_route = []\n",
    "\n",
    "    for i in range(len(cr)-1):\n",
    "        str_route.append(str(cr[i]) + ' to ' + str(cr[i+1]))\n",
    "\n",
    "    return str_route"
   ]
  },
  {
   "cell_type": "markdown",
   "metadata": {},
   "source": [
    "## **SOLUTIONS**"
   ]
  },
  {
   "cell_type": "markdown",
   "metadata": {},
   "source": [
    "### Question 1"
   ]
  },
  {
   "cell_type": "code",
   "execution_count": 107,
   "metadata": {},
   "outputs": [],
   "source": [
    "def q1(data: pd.DataFrame, prod_info: pd.DataFrame):\n",
    "    def get_prod_name(shelf_id, item_id):\n",
    "        try:\n",
    "            row = prod_info[(prod_info['Item ID'] == item_id) & (prod_info['Shelf ID'] == shelf_id)]            \n",
    "            return row.iloc[0]['Name']\n",
    "        except:\n",
    "            return 'Not Found!'\n",
    "\n",
    "    lns = data.loc[:,['Shelf ID', 'Item ID', 'Looking at item (s)', 'Holding the item (s)']]\n",
    "\n",
    "    lns['Sum'] = lns['Looking at item (s)'] + lns['Holding the item (s)']\n",
    "    lns['Name'] = lns.apply(lambda row: get_prod_name(row['Shelf ID'], row['Item ID']), axis=1)\n",
    "\n",
    "    grouped_lns = lns.groupby('Name')['Sum'].sum()\n",
    "\n",
    "    return grouped_lns.sort_values(ascending=False)"
   ]
  },
  {
   "cell_type": "markdown",
   "metadata": {},
   "source": [
    "### Question 2"
   ]
  },
  {
   "cell_type": "code",
   "execution_count": 108,
   "metadata": {},
   "outputs": [],
   "source": [
    "def q2(data: pd.DataFrame, prod_info: pd.DataFrame):\n",
    "    def get_prod_name(shelf_id, item_id):\n",
    "        try:\n",
    "            row = prod_info[(prod_info['Item ID'] == item_id) & (prod_info['Shelf ID'] == shelf_id)]            \n",
    "            return row.iloc[0]['Name']\n",
    "        except:\n",
    "            return 'Not Found!'\n",
    "        \n",
    "    hnr = data.loc[:,['Shelf ID', 'Item ID', 'Holding the item (s)', 'Returning item']]\n",
    "    hnr.dropna()\n",
    "\n",
    "    hnr['Name'] = hnr.apply(lambda row: get_prod_name(row['Shelf ID'], row['Item ID']), axis=1)\n",
    "\n",
    "    hnr_true = hnr[hnr['Returning item'] == True]\n",
    "\n",
    "    return hnr_true['Name'].value_counts(ascending=False)      \n",
    "    "
   ]
  },
  {
   "cell_type": "markdown",
   "metadata": {},
   "source": [
    "### Question 3"
   ]
  },
  {
   "cell_type": "code",
   "execution_count": 109,
   "metadata": {},
   "outputs": [],
   "source": [
    "def q3(data: pd.DataFrame, prod_info: pd.DataFrame):   \n",
    "    def get_prod_name(shelf_id, item_id):\n",
    "        try:\n",
    "            row = prod_info[(prod_info['Item ID'] == item_id) & (prod_info['Shelf ID'] == shelf_id)]            \n",
    "            return row.iloc[0]['Name']\n",
    "        except:\n",
    "            return 'Not Found!'\n",
    "                \n",
    "    anp = data.loc[:,['Shelf ID', 'Item ID', 'Age', 'Putting item into bag', 'Taking item out of bag', 'Putting item into bag in the 2nd time']]\n",
    "    anp.dropna() \n",
    "\n",
    "    anp['Name'] = anp.apply(lambda row: get_prod_name(row['Shelf ID'], row['Item ID']), axis=1) \n",
    "\n",
    "    anp_buy = anp[\n",
    "        ((anp['Putting item into bag'] == True) & \n",
    "        (anp['Taking item out of bag'] == False)) |\n",
    "        ((anp['Taking item out of bag'] == True) & \n",
    "        (anp['Putting item into bag'] == True) & \n",
    "        (anp['Putting item into bag in the 2nd time'] == True))\n",
    "    ]\n",
    "\n",
    "    print(anp_buy.size, anp.size)\n",
    "\n",
    "    aba_thn = anp_buy[(anp_buy['Age'] >= 18) & (anp_buy['Age'] <= 30)]\n",
    "    aba_trn = anp_buy[(anp_buy['Age'] >= 31) & (anp_buy['Age'] <= 60)]\n",
    "    aba_cn = anp_buy[(anp_buy['Age'] >= 61)]\n",
    "\n",
    "    return aba_thn['Name'].value_counts(ascending=False), aba_trn['Name'].value_counts(ascending=False), aba_cn['Name'].value_counts(ascending=False) \n",
    "    "
   ]
  },
  {
   "cell_type": "markdown",
   "metadata": {},
   "source": [
    "### Question 4"
   ]
  },
  {
   "cell_type": "code",
   "execution_count": 196,
   "metadata": {},
   "outputs": [],
   "source": [
    "def q4(data: pd.DataFrame, prod_info: pd.DataFrame):   \n",
    "    def get_prod_name(shelf_id, item_id):\n",
    "        try:\n",
    "            row = prod_info[(prod_info['Item ID'] == item_id) & (prod_info['Shelf ID'] == shelf_id)]            \n",
    "            return row.iloc[0]['Name']\n",
    "        except:\n",
    "            return 'Not Found!'\n",
    "        \n",
    "    def get_prod_price(shelf_id, item_id):\n",
    "        try:\n",
    "            row = prod_info[(prod_info['Item ID'] == item_id) & (prod_info['Shelf ID'] == shelf_id)]            \n",
    "            return norm_money(row.iloc[0]['Price'])\n",
    "        except:\n",
    "            return 'Not Found!'\n",
    " \n",
    "    anp = data.loc[:,['Shelf ID', 'Item ID', 'Timestamp', 'Putting item into bag', 'Taking item out of bag', 'Putting item into bag in the 2nd time']]\n",
    "    anp.dropna() \n",
    "\n",
    "    anp_buy = anp[\n",
    "        ((anp['Putting item into bag'] == True) & \n",
    "        (anp['Taking item out of bag'] == False)) |\n",
    "        ((anp['Taking item out of bag'] == True) & \n",
    "        (anp['Putting item into bag'] == True) & \n",
    "        (anp['Putting item into bag in the 2nd time'] == True))\n",
    "    ]\n",
    "\n",
    "    anp_buy['Price'] = anp_buy.apply(lambda row: get_prod_price(row['Shelf ID'], row['Item ID']), axis=1) \n",
    "    anp_buy['Name'] = anp_buy.apply(lambda row: get_prod_name(row['Shelf ID'], row['Item ID']), axis=1) \n",
    "\n",
    "    anp_buy['Timestamp'] = pd.to_datetime(anp_buy['Timestamp'], unit='s')\n",
    "    anp_buy['Date'] = anp_buy['Timestamp'].dt.date\n",
    "\n",
    "    return anp_buy.groupby('Date')['Price'].sum().sort_values(ascending=False)\n"
   ]
  },
  {
   "cell_type": "markdown",
   "metadata": {},
   "source": [
    "### Question 5"
   ]
  },
  {
   "cell_type": "code",
   "execution_count": 128,
   "metadata": {},
   "outputs": [],
   "source": [
    "def q5(data: pd.DataFrame):                  \n",
    "    anp = data.loc[:,['Age']]\n",
    "\n",
    "    anp_thn = anp[(anp['Age'] >= 18) & (anp['Age'] <= 30)]\n",
    "    anp_trn = anp[(anp['Age'] >= 31) & (anp['Age'] <= 60)]\n",
    "    anp_cn = anp[(anp['Age'] >= 61)]\n",
    "\n",
    "    return anp_thn.size, anp_trn.size, anp_cn.size\n",
    "    "
   ]
  },
  {
   "cell_type": "markdown",
   "metadata": {},
   "source": [
    "### Question 6"
   ]
  },
  {
   "cell_type": "code",
   "execution_count": 134,
   "metadata": {},
   "outputs": [],
   "source": [
    "def q6(data: pd.DataFrame, prod_info: pd.DataFrame):   \n",
    "    def get_prod_name(shelf_id, item_id):\n",
    "        try:\n",
    "            row = prod_info[(prod_info['Item ID'] == item_id) & (prod_info['Shelf ID'] == shelf_id)]            \n",
    "            return row.iloc[0]['Name']\n",
    "        except:\n",
    "            return 'Not Found!'\n",
    "        \n",
    "    def get_prod_sale(shelf_id, item_id):\n",
    "        try:\n",
    "            row = prod_info[(prod_info['Item ID'] == item_id) & (prod_info['Shelf ID'] == shelf_id)]            \n",
    "            return row.iloc[0]['Discount']\n",
    "        except:\n",
    "            return 'Not Found!'\n",
    "        \n",
    "    prods = data.loc[:,['Shelf ID', 'Item ID', 'Putting item into bag', 'Taking item out of bag', 'Putting item into bag in the 2nd time']]\n",
    "    prods.dropna() \n",
    "\n",
    "    prods_buy = prods[\n",
    "        ((prods['Putting item into bag'] == True) & \n",
    "        (prods['Taking item out of bag'] == False)) |\n",
    "        ((prods['Taking item out of bag'] == True) & \n",
    "        (prods['Putting item into bag'] == True) & \n",
    "        (prods['Putting item into bag in the 2nd time'] == True))\n",
    "    ]\n",
    "\n",
    "    prods_buy['Name'] = prods_buy.apply(lambda row: get_prod_name(row['Shelf ID'], row['Item ID']), axis=1)   \n",
    "    prods_buy['Sale'] = prods_buy.apply(lambda row: get_prod_sale(row['Shelf ID'], row['Item ID']), axis=1)   \n",
    "\n",
    "    pbs = prods_buy[prods_buy['Sale'] != 0]\n",
    "\n",
    "    return pbs.groupby('Name')['Name'].value_counts().sort_values(ascending=False)\n",
    "    "
   ]
  },
  {
   "cell_type": "markdown",
   "metadata": {},
   "source": [
    "### Question 7"
   ]
  },
  {
   "cell_type": "code",
   "execution_count": 141,
   "metadata": {},
   "outputs": [],
   "source": [
    "def q7(data: pd.DataFrame, prod_info: pd.DataFrame):   \n",
    "    def get_prod_name(shelf_id, item_id):\n",
    "        try:\n",
    "            row = prod_info[(prod_info['Item ID'] == item_id) & (prod_info['Shelf ID'] == shelf_id)]            \n",
    "            return row.iloc[0]['Name']\n",
    "        except:\n",
    "            return 'Not Found!'\n",
    "        \n",
    "    def get_prod_strategy(shelf_id, item_id):\n",
    "        try:\n",
    "            row = prod_info[(prod_info['Item ID'] == item_id) & (prod_info['Shelf ID'] == shelf_id)]            \n",
    "            return row.iloc[0]['Marketing strategy']\n",
    "        except:\n",
    "            return 'Not Found!'\n",
    "        \n",
    "    prods = data.loc[:,['Shelf ID', 'Item ID', 'Putting item into bag', 'Taking item out of bag', 'Putting item into bag in the 2nd time']]\n",
    "    prods.dropna() \n",
    "\n",
    "    prods_buy = prods[\n",
    "        ((prods['Putting item into bag'] == True) & \n",
    "        (prods['Taking item out of bag'] == False)) |\n",
    "        ((prods['Taking item out of bag'] == True) & \n",
    "        (prods['Putting item into bag'] == True) & \n",
    "        (prods['Putting item into bag in the 2nd time'] == True))\n",
    "    ]\n",
    "\n",
    "    prods_buy['Name'] = prods_buy.apply(lambda row: get_prod_name(row['Shelf ID'], row['Item ID']), axis=1)   \n",
    "    prods_buy['Strategy'] = prods_buy.apply(lambda row: get_prod_strategy(row['Shelf ID'], row['Item ID']), axis=1)   \n",
    "\n",
    "    pbs = prods_buy[prods_buy['Strategy'] == True]\n",
    "\n",
    "    print(pbs['Strategy'])\n",
    "\n",
    "    return pbs.groupby('Name')['Name'].value_counts().sort_values(ascending=False)\n",
    "    "
   ]
  },
  {
   "cell_type": "markdown",
   "metadata": {},
   "source": [
    "### Question 8"
   ]
  },
  {
   "cell_type": "code",
   "execution_count": 212,
   "metadata": {},
   "outputs": [],
   "source": [
    "def q8(data: pd.DataFrame):\n",
    "    lns = data.loc[:,['Shelf ID', 'Item ID', 'Looking at item (s)', 'Holding the item (s)']]\n",
    "\n",
    "    lns['Sum'] = lns['Looking at item (s)'] + lns['Holding the item (s)']\n",
    "    \n",
    "    result = lns.groupby('Shelf ID').agg(\n",
    "        total_time = ('Sum', 'sum'),\n",
    "        interaction = ('Shelf ID', 'count')\n",
    "    )\n",
    "\n",
    "    result['avg'] = result['total_time'] / result['interaction']\n",
    "\n",
    "    return result.sort_values(by=['avg'], ascending=False)"
   ]
  },
  {
   "cell_type": "markdown",
   "metadata": {},
   "source": [
    "### Question 9"
   ]
  },
  {
   "cell_type": "code",
   "execution_count": 145,
   "metadata": {},
   "outputs": [],
   "source": [
    "def q9(data: pd.DataFrame):          \n",
    "    prods = data.loc[:,['Shelf ID', 'Item ID', 'Putting item into bag', 'Taking item out of bag', 'Putting item into bag in the 2nd time']]\n",
    "    prods.dropna() \n",
    "\n",
    "    prods_buy = prods[\n",
    "        ((prods['Putting item into bag'] == True) & \n",
    "        (prods['Taking item out of bag'] == False)) |\n",
    "        ((prods['Taking item out of bag'] == True) & \n",
    "        (prods['Putting item into bag'] == True) & \n",
    "        (prods['Putting item into bag in the 2nd time'] == True))\n",
    "    ]\n",
    "\n",
    "    return prods_buy.groupby('Shelf ID')['Shelf ID'].value_counts().sort_values(ascending=False)\n",
    "    "
   ]
  },
  {
   "cell_type": "markdown",
   "metadata": {},
   "source": [
    "### Question 10"
   ]
  },
  {
   "cell_type": "code",
   "execution_count": 193,
   "metadata": {},
   "outputs": [],
   "source": [
    "def q10(data: pd.DataFrame):          \n",
    "    cust = list(data.loc[:,['Person ID']]['Person ID'].unique())\n",
    "    routes = []\n",
    "\n",
    "    for cust_id in cust:\n",
    "        cr = norm_route(list(data[(data['Person ID'] == cust_id)]['Shelf ID']))\n",
    "        if len(cr) != 1:\n",
    "            routes += create_route(cr)\n",
    "\n",
    "    rdf = pd.DataFrame(routes, columns=['Route'])\n",
    "\n",
    "    return rdf.value_counts().sort_values(ascending=False)    "
   ]
  },
  {
   "cell_type": "markdown",
   "metadata": {},
   "source": [
    "### Question 11"
   ]
  },
  {
   "cell_type": "markdown",
   "metadata": {},
   "source": [
    "### Question 12"
   ]
  },
  {
   "cell_type": "markdown",
   "metadata": {},
   "source": [
    "## **RUN IT!**"
   ]
  },
  {
   "cell_type": "markdown",
   "metadata": {},
   "source": [
    "### Init"
   ]
  },
  {
   "cell_type": "code",
   "execution_count": 111,
   "metadata": {},
   "outputs": [],
   "source": [
    "cust_data = read_csv('03_Customer_Behavior_Data')\n",
    "item_data = read_csv('03_Item_Information_Data')\n",
    "shelf_data = read_csv('03_Shelf_Information_Data')"
   ]
  },
  {
   "cell_type": "code",
   "execution_count": 203,
   "metadata": {},
   "outputs": [
    {
     "data": {
      "text/plain": [
       "Shelf ID\n",
       "7    3305\n",
       "0    2789\n",
       "1    2363\n",
       "2    1909\n",
       "4    1878\n",
       "3    1302\n",
       "6    1087\n",
       "5     761\n",
       "Name: count, dtype: int64"
      ]
     },
     "execution_count": 203,
     "metadata": {},
     "output_type": "execute_result"
    }
   ],
   "source": [
    "cust_data.groupby('Shelf ID')['Shelf ID'].value_counts().sort_values(ascending=False)"
   ]
  },
  {
   "cell_type": "code",
   "execution_count": 201,
   "metadata": {},
   "outputs": [
    {
     "data": {
      "text/plain": [
       "Shelf ID\n",
       "0     78503\n",
       "1     61420\n",
       "2     54811\n",
       "3     40689\n",
       "4     57541\n",
       "5     24391\n",
       "6     23008\n",
       "7    101444\n",
       "Name: Looking at item (s), dtype: int64"
      ]
     },
     "execution_count": 201,
     "metadata": {},
     "output_type": "execute_result"
    }
   ],
   "source": [
    "cust_data.groupby('Shelf ID')['Looking at item (s)'].sum()"
   ]
  },
  {
   "cell_type": "markdown",
   "metadata": {},
   "source": [
    "### Answer 1"
   ]
  },
  {
   "cell_type": "code",
   "execution_count": 112,
   "metadata": {},
   "outputs": [
    {
     "data": {
      "text/plain": [
       "Name\n",
       "Sữa chua uống Probi                                                    22896\n",
       "Sữa chua uống Yakult                                                   22896\n",
       "Sữa ông thọ                                                            13939\n",
       "Bim bim Oishi                                                          13866\n",
       "Snack khoai tây Lays                                                   13362\n",
       "                                                                       ...  \n",
       "Tã dán sơ sinh Bobby siêu mỏng Newborn 70 miếng (cho bé dưới 5kg)     1669\n",
       "Sách Thám tử Sherlock Home                                              1463\n",
       "Sách cho trẻ từ 1-2 tuổi                                                1421\n",
       "Truyện Doraemon                                                         1378\n",
       "Sách Ðạo Tình                                                           1152\n",
       "Name: Sum, Length: 134, dtype: int64"
      ]
     },
     "execution_count": 112,
     "metadata": {},
     "output_type": "execute_result"
    }
   ],
   "source": [
    "a1 = q1(cust_data, item_data)\n",
    "\n",
    "a1"
   ]
  },
  {
   "cell_type": "markdown",
   "metadata": {},
   "source": [
    "### Answer 2"
   ]
  },
  {
   "cell_type": "code",
   "execution_count": 113,
   "metadata": {},
   "outputs": [
    {
     "data": {
      "text/plain": [
       "Name\n",
       "4 hộp sữa lúa mạch Milo 180ml    134\n",
       "Snack khoai tây Lays             127\n",
       "Mý ý SG Food                     117\n",
       "Nước lẩu Barona                  116\n",
       "Sữa chua Vinamik                 114\n",
       "                                ... \n",
       "Bia Sài Gòn Special                8\n",
       "Chảo Lock&Lock                     7\n",
       "Bếp nướng Lock&Lock                7\n",
       "Chảo Sunhouse                      6\n",
       "Máy xay sinh tố Comet              6\n",
       "Name: count, Length: 131, dtype: int64"
      ]
     },
     "execution_count": 113,
     "metadata": {},
     "output_type": "execute_result"
    }
   ],
   "source": [
    "a2 = q2(cust_data, item_data)\n",
    "\n",
    "a2"
   ]
  },
  {
   "cell_type": "markdown",
   "metadata": {},
   "source": [
    "### Answer 3"
   ]
  },
  {
   "cell_type": "code",
   "execution_count": 114,
   "metadata": {},
   "outputs": [
    {
     "name": "stdout",
     "output_type": "stream",
     "text": [
      "41440 107758\n"
     ]
    }
   ],
   "source": [
    "a3_thn, a3_trn, a3_cn = q3(cust_data, item_data)"
   ]
  },
  {
   "cell_type": "code",
   "execution_count": 115,
   "metadata": {},
   "outputs": [
    {
     "data": {
      "text/plain": [
       "Name\n",
       "Bánh trứng Custard                            46\n",
       "Lốc 4 hộp sữa tươi ít đường TH true MILK      45\n",
       "Sữa bột Milo                                  38\n",
       "Tã dán Merries size NB 76 miếng (dưới 5kg)    32\n",
       "Kem tràng tiền                                31\n",
       "                                              ..\n",
       "Miếng dong Miến vương                          1\n",
       "Sách cho trẻ sơ sinh đến 6 tháng tuổi          1\n",
       "Ngũ cốc VinaCafe                               1\n",
       "Nồi cơm điện Kangaroo                          1\n",
       "Sách cho trẻ từ 1-2 tuổi                       1\n",
       "Name: count, Length: 132, dtype: int64"
      ]
     },
     "execution_count": 115,
     "metadata": {},
     "output_type": "execute_result"
    }
   ],
   "source": [
    "a3_thn"
   ]
  },
  {
   "cell_type": "code",
   "execution_count": 116,
   "metadata": {},
   "outputs": [
    {
     "data": {
      "text/plain": [
       "Name\n",
       "Kem tràng tiền                                                         96\n",
       "Lốc 4 hộp sữa tươi ít đường TH true MILK                               92\n",
       "Sữa bột Milo                                                           78\n",
       "Bánh trứng Custard                                                     72\n",
       "Tã dán sơ sinh Bobby siêu mỏng Newborn 70 miếng (cho bé dưới 5kg)    66\n",
       "                                                                       ..\n",
       "Ðèn bàn Ðiện Quang                                                      3\n",
       "Sách cho trẻ từ 4-5 tuổi                                                2\n",
       "Nồi cơm điện Kangaroo                                                   1\n",
       "Sách cho trẻ từ 2-3 tuổi                                                1\n",
       "Sách Thám tử Sherlock Home                                              1\n",
       "Name: count, Length: 134, dtype: int64"
      ]
     },
     "execution_count": 116,
     "metadata": {},
     "output_type": "execute_result"
    }
   ],
   "source": [
    "a3_trn"
   ]
  },
  {
   "cell_type": "code",
   "execution_count": 117,
   "metadata": {},
   "outputs": [
    {
     "data": {
      "text/plain": [
       "Name\n",
       "Bánh trứng Custard                            53\n",
       "Sữa bột Milo                                  51\n",
       "Lốc 4 hộp sữa tươi ít đường TH true MILK      50\n",
       "Kem tràng tiền                                42\n",
       "Tã dán Merries size NB 76 miếng (dưới 5kg)    38\n",
       "                                              ..\n",
       "Phích cắm điện Ðiện Quang                      1\n",
       "Bếp điện từ Sunhouse                           1\n",
       "Sách cho trẻ từ 4-5 tuổi                       1\n",
       "Sách cho trẻ sơ sinh đến 6 tháng tuổi          1\n",
       "Xì dầu Tam Thái tử                             1\n",
       "Name: count, Length: 134, dtype: int64"
      ]
     },
     "execution_count": 117,
     "metadata": {},
     "output_type": "execute_result"
    }
   ],
   "source": [
    "a3_cn"
   ]
  },
  {
   "cell_type": "markdown",
   "metadata": {},
   "source": [
    "### Answer 4"
   ]
  },
  {
   "cell_type": "code",
   "execution_count": 197,
   "metadata": {},
   "outputs": [
    {
     "name": "stderr",
     "output_type": "stream",
     "text": [
      "C:\\Users\\HP\\AppData\\Local\\Temp\\ipykernel_16464\\3707479508.py:27: SettingWithCopyWarning: \n",
      "A value is trying to be set on a copy of a slice from a DataFrame.\n",
      "Try using .loc[row_indexer,col_indexer] = value instead\n",
      "\n",
      "See the caveats in the documentation: https://pandas.pydata.org/pandas-docs/stable/user_guide/indexing.html#returning-a-view-versus-a-copy\n",
      "  anp_buy['Price'] = anp_buy.apply(lambda row: get_prod_price(row['Shelf ID'], row['Item ID']), axis=1)\n",
      "C:\\Users\\HP\\AppData\\Local\\Temp\\ipykernel_16464\\3707479508.py:28: SettingWithCopyWarning: \n",
      "A value is trying to be set on a copy of a slice from a DataFrame.\n",
      "Try using .loc[row_indexer,col_indexer] = value instead\n",
      "\n",
      "See the caveats in the documentation: https://pandas.pydata.org/pandas-docs/stable/user_guide/indexing.html#returning-a-view-versus-a-copy\n",
      "  anp_buy['Name'] = anp_buy.apply(lambda row: get_prod_name(row['Shelf ID'], row['Item ID']), axis=1)\n",
      "C:\\Users\\HP\\AppData\\Local\\Temp\\ipykernel_16464\\3707479508.py:30: SettingWithCopyWarning: \n",
      "A value is trying to be set on a copy of a slice from a DataFrame.\n",
      "Try using .loc[row_indexer,col_indexer] = value instead\n",
      "\n",
      "See the caveats in the documentation: https://pandas.pydata.org/pandas-docs/stable/user_guide/indexing.html#returning-a-view-versus-a-copy\n",
      "  anp_buy['Timestamp'] = pd.to_datetime(anp_buy['Timestamp'], unit='s')\n",
      "C:\\Users\\HP\\AppData\\Local\\Temp\\ipykernel_16464\\3707479508.py:31: SettingWithCopyWarning: \n",
      "A value is trying to be set on a copy of a slice from a DataFrame.\n",
      "Try using .loc[row_indexer,col_indexer] = value instead\n",
      "\n",
      "See the caveats in the documentation: https://pandas.pydata.org/pandas-docs/stable/user_guide/indexing.html#returning-a-view-versus-a-copy\n",
      "  anp_buy['Date'] = anp_buy['Timestamp'].dt.date\n"
     ]
    },
    {
     "data": {
      "text/plain": [
       "Date\n",
       "2024-07-06    238686900\n",
       "2024-07-07    221067200\n",
       "2024-07-02     69922100\n",
       "2024-07-04     68094500\n",
       "2024-07-05     62646400\n",
       "2024-07-03     51912100\n",
       "2024-07-08     29413400\n",
       "2024-07-01     19623300\n",
       "Name: Price, dtype: int64"
      ]
     },
     "execution_count": 197,
     "metadata": {},
     "output_type": "execute_result"
    }
   ],
   "source": [
    "a4 = q4(cust_data, item_data)\n",
    "\n",
    "a4"
   ]
  },
  {
   "cell_type": "markdown",
   "metadata": {},
   "source": [
    "### Answer 5"
   ]
  },
  {
   "cell_type": "code",
   "execution_count": 129,
   "metadata": {},
   "outputs": [
    {
     "name": "stdout",
     "output_type": "stream",
     "text": [
      "3574 7617 4203\n"
     ]
    }
   ],
   "source": [
    "a3_thn, a3_trn, a3_cn = q5(cust_data)\n",
    "\n",
    "print(a3_thn, a3_trn, a3_cn)"
   ]
  },
  {
   "cell_type": "markdown",
   "metadata": {},
   "source": [
    "### Answer 6"
   ]
  },
  {
   "cell_type": "code",
   "execution_count": 135,
   "metadata": {},
   "outputs": [
    {
     "name": "stderr",
     "output_type": "stream",
     "text": [
      "C:\\Users\\HP\\AppData\\Local\\Temp\\ipykernel_16464\\2522391787.py:27: SettingWithCopyWarning: \n",
      "A value is trying to be set on a copy of a slice from a DataFrame.\n",
      "Try using .loc[row_indexer,col_indexer] = value instead\n",
      "\n",
      "See the caveats in the documentation: https://pandas.pydata.org/pandas-docs/stable/user_guide/indexing.html#returning-a-view-versus-a-copy\n",
      "  prods_buy['Name'] = prods_buy.apply(lambda row: get_prod_name(row['Shelf ID'], row['Item ID']), axis=1)\n",
      "C:\\Users\\HP\\AppData\\Local\\Temp\\ipykernel_16464\\2522391787.py:28: SettingWithCopyWarning: \n",
      "A value is trying to be set on a copy of a slice from a DataFrame.\n",
      "Try using .loc[row_indexer,col_indexer] = value instead\n",
      "\n",
      "See the caveats in the documentation: https://pandas.pydata.org/pandas-docs/stable/user_guide/indexing.html#returning-a-view-versus-a-copy\n",
      "  prods_buy['Sale'] = prods_buy.apply(lambda row: get_prod_sale(row['Shelf ID'], row['Item ID']), axis=1)\n"
     ]
    },
    {
     "data": {
      "text/plain": [
       "Name\n",
       "Bánh trứng Custard                                171\n",
       "Kem tràng tiền                                    169\n",
       "Sữa bột Milo                                      167\n",
       "Dầu gội Romano                                    105\n",
       "Khăn mặt Shine                                    102\n",
       "Khăn tắm Shine                                     98\n",
       "Tã dán sơ sinh Goo.n Premium Newborn 70 miếng     88\n",
       "Dầu gội Dove                                       87\n",
       "Hạt hướng dương Chacheer                           78\n",
       "Nước mắm Nam ngư                                   77\n",
       "Snack khoai tây Lays                               76\n",
       "Nước mắm cá cơm Thuận Phát                         75\n",
       "Bim bim Oishi                                      73\n",
       "Sữa chua uống Probi                                69\n",
       "Socola trứng Kinder                                66\n",
       "Ðường kính Toàn Phát                               66\n",
       "Nước mắm hạnh phúc                                 64\n",
       "Sửa bột Anele                                      62\n",
       "Bánh Oreo                                          58\n",
       "Kẹo dẻo Alphelibe                                  56\n",
       "Bia Sài Gòn Special                                53\n",
       "Tăm bông ngoáy tai Famapro                         44\n",
       "Bàn chải Colgate                                   42\n",
       "Vodka Hà Nội                                       41\n",
       "Dầu gội Sunsilk                                    40\n",
       "Nồi cơm điện Sunhouse                              38\n",
       "Ðường phèn Biên Hoà                                36\n",
       "Strongbow dâu đen                                  36\n",
       "Bếp điện từ Lock&Lock                              35\n",
       "Dầu hào Maggi                                      34\n",
       "Máy xay sinh tố Lock&Lock                          34\n",
       "Fanta                                              33\n",
       "Chảo Lock&Lock                                     33\n",
       "Máy xay sinh tố Sunhouse                           32\n",
       "Gạo ST25 Neptune                                   31\n",
       "Dầu ăn Tường An                                    31\n",
       "Chảo Sunhouse                                      31\n",
       "Nồi cơm điện Lock&Lock                             30\n",
       "Nước mắm cho bé Thuyền xưa                         30\n",
       "Nồi cơm điện Cuckcoo                               30\n",
       "Sửa rửa mặt Oxy                                    29\n",
       "Dầu gội XMen                                       28\n",
       "Mỳ chính Ajinomoto                                 28\n",
       "Máy xay sinh tố Comet                              28\n",
       "Nước mắm Chinsu                                    27\n",
       "Nước mắm cho bé Barona                             26\n",
       "Vodka Cá sấu                                       26\n",
       "Bếp nướng Lock&Lock                                25\n",
       "Dầu ăn Simply                                      24\n",
       "Mỳ chính Miwon                                     20\n",
       "Coca Cola                                          18\n",
       "Bếp nướng Sunhouse                                 16\n",
       "Vang đỏ đà lạt                                     15\n",
       "Ổ cắm điện Lioa                                    15\n",
       "Sprite                                             14\n",
       "Nui Safoco                                         14\n",
       "Bếp điện từ Sunhouse                                9\n",
       "Phích cắm điện Ðiện Quang                           5\n",
       "Nồi cơm điện Kangaroo                               5\n",
       "Ðèn bàn Ðiện Quang                                  5\n",
       "Name: count, dtype: int64"
      ]
     },
     "execution_count": 135,
     "metadata": {},
     "output_type": "execute_result"
    }
   ],
   "source": [
    "a6 = q6(cust_data, item_data)\n",
    "\n",
    "a6"
   ]
  },
  {
   "cell_type": "markdown",
   "metadata": {},
   "source": [
    "### Answer 7"
   ]
  },
  {
   "cell_type": "code",
   "execution_count": 142,
   "metadata": {},
   "outputs": [
    {
     "name": "stderr",
     "output_type": "stream",
     "text": [
      "C:\\Users\\HP\\AppData\\Local\\Temp\\ipykernel_16464\\1486830990.py:27: SettingWithCopyWarning: \n",
      "A value is trying to be set on a copy of a slice from a DataFrame.\n",
      "Try using .loc[row_indexer,col_indexer] = value instead\n",
      "\n",
      "See the caveats in the documentation: https://pandas.pydata.org/pandas-docs/stable/user_guide/indexing.html#returning-a-view-versus-a-copy\n",
      "  prods_buy['Name'] = prods_buy.apply(lambda row: get_prod_name(row['Shelf ID'], row['Item ID']), axis=1)\n"
     ]
    },
    {
     "name": "stdout",
     "output_type": "stream",
     "text": [
      "21       True\n",
      "23       True\n",
      "40       True\n",
      "45       True\n",
      "53       True\n",
      "         ... \n",
      "15327    True\n",
      "15350    True\n",
      "15355    True\n",
      "15363    True\n",
      "15365    True\n",
      "Name: Strategy, Length: 1211, dtype: bool\n"
     ]
    },
    {
     "name": "stderr",
     "output_type": "stream",
     "text": [
      "C:\\Users\\HP\\AppData\\Local\\Temp\\ipykernel_16464\\1486830990.py:28: SettingWithCopyWarning: \n",
      "A value is trying to be set on a copy of a slice from a DataFrame.\n",
      "Try using .loc[row_indexer,col_indexer] = value instead\n",
      "\n",
      "See the caveats in the documentation: https://pandas.pydata.org/pandas-docs/stable/user_guide/indexing.html#returning-a-view-versus-a-copy\n",
      "  prods_buy['Strategy'] = prods_buy.apply(lambda row: get_prod_strategy(row['Shelf ID'], row['Item ID']), axis=1)\n"
     ]
    },
    {
     "data": {
      "text/plain": [
       "Name\n",
       "Bánh trứng Custard                                171\n",
       "Kem tràng tiền                                    169\n",
       "Sữa bột Milo                                      167\n",
       "Khăn mặt Shine                                    102\n",
       "Khăn tắm Shine                                     98\n",
       "Tã dán sơ sinh Goo.n Premium Newborn 70 miếng     88\n",
       "Dầu gội Dove                                       87\n",
       "Nước mắm cá cơm Thuận Phát                         75\n",
       "Strongbow dâu đen                                  36\n",
       "Bếp điện từ Lock&Lock                              35\n",
       "Máy xay sinh tố Lock&Lock                          34\n",
       "Chảo Lock&Lock                                     33\n",
       "Gạo ST25 Neptune                                   31\n",
       "Nồi cơm điện Cuckcoo                               30\n",
       "Nồi cơm điện Lock&Lock                             30\n",
       "Bếp nướng Lock&Lock                                25\n",
       "Name: count, dtype: int64"
      ]
     },
     "execution_count": 142,
     "metadata": {},
     "output_type": "execute_result"
    }
   ],
   "source": [
    "a7 = q7(cust_data, item_data)\n",
    "\n",
    "a7"
   ]
  },
  {
   "cell_type": "markdown",
   "metadata": {},
   "source": [
    "### Answer 8"
   ]
  },
  {
   "cell_type": "code",
   "execution_count": 213,
   "metadata": {},
   "outputs": [
    {
     "data": {
      "text/html": [
       "<div>\n",
       "<style scoped>\n",
       "    .dataframe tbody tr th:only-of-type {\n",
       "        vertical-align: middle;\n",
       "    }\n",
       "\n",
       "    .dataframe tbody tr th {\n",
       "        vertical-align: top;\n",
       "    }\n",
       "\n",
       "    .dataframe thead th {\n",
       "        text-align: right;\n",
       "    }\n",
       "</style>\n",
       "<table border=\"1\" class=\"dataframe\">\n",
       "  <thead>\n",
       "    <tr style=\"text-align: right;\">\n",
       "      <th></th>\n",
       "      <th>total_time</th>\n",
       "      <th>interaction</th>\n",
       "      <th>avg</th>\n",
       "    </tr>\n",
       "    <tr>\n",
       "      <th>Shelf ID</th>\n",
       "      <th></th>\n",
       "      <th></th>\n",
       "      <th></th>\n",
       "    </tr>\n",
       "  </thead>\n",
       "  <tbody>\n",
       "    <tr>\n",
       "      <th>5</th>\n",
       "      <td>47380</td>\n",
       "      <td>761</td>\n",
       "      <td>62.260184</td>\n",
       "    </tr>\n",
       "    <tr>\n",
       "      <th>7</th>\n",
       "      <td>201638</td>\n",
       "      <td>3305</td>\n",
       "      <td>61.009985</td>\n",
       "    </tr>\n",
       "    <tr>\n",
       "      <th>3</th>\n",
       "      <td>77919</td>\n",
       "      <td>1302</td>\n",
       "      <td>59.845622</td>\n",
       "    </tr>\n",
       "    <tr>\n",
       "      <th>4</th>\n",
       "      <td>108934</td>\n",
       "      <td>1878</td>\n",
       "      <td>58.005325</td>\n",
       "    </tr>\n",
       "    <tr>\n",
       "      <th>2</th>\n",
       "      <td>106461</td>\n",
       "      <td>1909</td>\n",
       "      <td>55.767941</td>\n",
       "    </tr>\n",
       "    <tr>\n",
       "      <th>0</th>\n",
       "      <td>153458</td>\n",
       "      <td>2789</td>\n",
       "      <td>55.022589</td>\n",
       "    </tr>\n",
       "    <tr>\n",
       "      <th>1</th>\n",
       "      <td>120088</td>\n",
       "      <td>2363</td>\n",
       "      <td>50.820144</td>\n",
       "    </tr>\n",
       "    <tr>\n",
       "      <th>6</th>\n",
       "      <td>42914</td>\n",
       "      <td>1087</td>\n",
       "      <td>39.479301</td>\n",
       "    </tr>\n",
       "  </tbody>\n",
       "</table>\n",
       "</div>"
      ],
      "text/plain": [
       "          total_time  interaction        avg\n",
       "Shelf ID                                    \n",
       "5              47380          761  62.260184\n",
       "7             201638         3305  61.009985\n",
       "3              77919         1302  59.845622\n",
       "4             108934         1878  58.005325\n",
       "2             106461         1909  55.767941\n",
       "0             153458         2789  55.022589\n",
       "1             120088         2363  50.820144\n",
       "6              42914         1087  39.479301"
      ]
     },
     "execution_count": 213,
     "metadata": {},
     "output_type": "execute_result"
    }
   ],
   "source": [
    "a8 = q8(cust_data)\n",
    "\n",
    "a8"
   ]
  },
  {
   "cell_type": "markdown",
   "metadata": {},
   "source": [
    "### Answer 9"
   ]
  },
  {
   "cell_type": "code",
   "execution_count": 146,
   "metadata": {},
   "outputs": [
    {
     "data": {
      "text/plain": [
       "Shelf ID\n",
       "1    1158\n",
       "7    1146\n",
       "0     969\n",
       "2     774\n",
       "4     698\n",
       "3     522\n",
       "5     371\n",
       "6     282\n",
       "Name: count, dtype: int64"
      ]
     },
     "execution_count": 146,
     "metadata": {},
     "output_type": "execute_result"
    }
   ],
   "source": [
    "a9 = q9(cust_data)\n",
    "\n",
    "a9"
   ]
  },
  {
   "cell_type": "markdown",
   "metadata": {},
   "source": [
    "### Answer 10"
   ]
  },
  {
   "cell_type": "code",
   "execution_count": 194,
   "metadata": {},
   "outputs": [
    {
     "data": {
      "text/plain": [
       "Route \n",
       "7 to 0    123\n",
       "0 to 7    109\n",
       "1 to 7    104\n",
       "7 to 4     92\n",
       "7 to 1     92\n",
       "7 to 2     79\n",
       "2 to 0     77\n",
       "4 to 7     77\n",
       "2 to 7     76\n",
       "0 to 1     72\n",
       "1 to 0     71\n",
       "4 to 1     65\n",
       "0 to 2     65\n",
       "1 to 2     59\n",
       "0 to 3     57\n",
       "1 to 4     57\n",
       "2 to 1     56\n",
       "3 to 7     54\n",
       "4 to 0     54\n",
       "0 to 4     54\n",
       "3 to 0     49\n",
       "2 to 4     48\n",
       "0 to 6     46\n",
       "4 to 2     43\n",
       "7 to 3     40\n",
       "5 to 7     38\n",
       "7 to 6     37\n",
       "3 to 1     36\n",
       "7 to 5     35\n",
       "6 to 0     35\n",
       "4 to 3     34\n",
       "1 to 6     33\n",
       "5 to 1     32\n",
       "1 to 3     32\n",
       "6 to 1     32\n",
       "2 to 3     31\n",
       "6 to 7     31\n",
       "3 to 2     31\n",
       "6 to 4     28\n",
       "6 to 2     27\n",
       "4 to 6     26\n",
       "1 to 5     26\n",
       "5 to 0     26\n",
       "3 to 4     25\n",
       "2 to 6     24\n",
       "5 to 4     20\n",
       "2 to 5     19\n",
       "0 to 5     19\n",
       "5 to 2     19\n",
       "3 to 6     17\n",
       "4 to 5     16\n",
       "3 to 5     15\n",
       "5 to 3     14\n",
       "6 to 3     13\n",
       "6 to 5     11\n",
       "5 to 6      9\n",
       "Name: count, dtype: int64"
      ]
     },
     "execution_count": 194,
     "metadata": {},
     "output_type": "execute_result"
    }
   ],
   "source": [
    "a10 = q10(cust_data)\n",
    "\n",
    "a10"
   ]
  },
  {
   "cell_type": "markdown",
   "metadata": {},
   "source": [
    "### Answer 11"
   ]
  },
  {
   "cell_type": "markdown",
   "metadata": {},
   "source": [
    "### Answer 12"
   ]
  },
  {
   "cell_type": "markdown",
   "metadata": {},
   "source": [
    "## **IMPORTANT NOTE**"
   ]
  }
 ],
 "metadata": {
  "kernelspec": {
   "display_name": "base",
   "language": "python",
   "name": "python3"
  },
  "language_info": {
   "codemirror_mode": {
    "name": "ipython",
    "version": 3
   },
   "file_extension": ".py",
   "mimetype": "text/x-python",
   "name": "python",
   "nbconvert_exporter": "python",
   "pygments_lexer": "ipython3",
   "version": "3.11.5"
  }
 },
 "nbformat": 4,
 "nbformat_minor": 2
}
